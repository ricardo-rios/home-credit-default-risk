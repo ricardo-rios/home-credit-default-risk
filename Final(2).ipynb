{
 "cells": [
  {
   "cell_type": "markdown",
   "metadata": {},
   "source": [
    "# Proyecto Final:   \n",
    "# Red Neuranal para predecir las dificultades de pago \n",
    "# de la empresa HOME CREDIT, Filipinas\n",
    "## Estudiantes:\n",
    "## Daniel Enríque Menéndez Gómez \n",
    "## Alicia Verónica Beltrán Sánchez"
   ]
  },
  {
   "cell_type": "code",
   "execution_count": 1,
   "metadata": {
    "collapsed": true
   },
   "outputs": [],
   "source": [
    "import pandas as pd\n",
    "import numpy as np\n",
    "import matplotlib.pyplot as plt\n",
    "datos = pd.read_csv(\"application_train.csv\")\n",
    "datos = pd.read_csv(\"application_train.csv\")\n",
    "datos = datos[[\"TARGET\",\"NAME_CONTRACT_TYPE\",\n",
    "              \"CODE_GENDER\",\"FLAG_OWN_CAR\",\"FLAG_OWN_REALTY\",\n",
    "              \"CNT_CHILDREN\",\"AMT_INCOME_TOTAL\",\"AMT_CREDIT\",\n",
    "              \"NAME_FAMILY_STATUS\",\"DAYS_EMPLOYED\",\n",
    "              \"DAYS_REGISTRATION\",\"OWN_CAR_AGE\",\"FLAG_MOBIL\",\n",
    "              \"FLAG_EMP_PHONE\",\n",
    "              \"CNT_FAM_MEMBERS\",\"REG_REGION_NOT_LIVE_REGION\",\n",
    "              \"DAYS_LAST_PHONE_CHANGE\",\n",
    "              \"WEEKDAY_APPR_PROCESS_START\"]]"
   ]
  },
  {
   "cell_type": "markdown",
   "metadata": {},
   "source": [
    "tomamos la base de datos application_train.csv con las siguientes variables:\n",
    "1. TARGET: Dificultades de pago\n",
    "2. NAME_CONTRACT_TYPE: Identifica si el prestamo es efectivo(1) o revolvente\n",
    "3. CODE_GENDER: Género del cliente\n",
    "4. FLAG_OWN_CAR: Inidica si el cliente posee auto\n",
    "5. FLAG_OWN_REALTY: Indica si el cliente posee casa.\n",
    "6. CNT_CHILDREN: Número de hijos del cliente\n",
    "7. AMT_INCOME_TOTAL: Ingresos del cliente\n",
    "8. AMT_CREDIT: Monto del préstamo\n",
    "9. NAME_FAMILY_STATUS: Estado civil del cliente\n",
    "10. DAYS_EMPLOYED: Dias trabajando hasta pedir el préstamo\n",
    "11. DAYS_REGISTRATION: ¿Cuántos días antes de la solicitud el cliente cambió el documento de identidad con el que solicitó el   préstamo?\n",
    "12. OWN_CAR_AGE: Edad del automóvil del cliente\n",
    "13. FLAG_MOBIL: Proporciono el cliente un telefono móvil?\n",
    "14. FLAG_EMP_PHONE: Proporciono  teléfono del trabajo?\n",
    "15. CNT_FAM_MEMBERS: Miembros de la familia\n",
    "16. REG_REGION_NOT_LIVE_REGION : LA dirección del cliente coincide con la que proporciono\n",
    "17. DAYS_LAST_PHONE_CHANGE: ¿Cuántos días antes de la aplicación el cliente cambió de teléfono?\n",
    "18. WEEKDAY_APPR_PROCESS_START: Día de la semana que el cliente inicio el proceso"
   ]
  },
  {
   "cell_type": "markdown",
   "metadata": {},
   "source": [
    "Mostramos los datos de los primeros 21 clientes de las primeras 5 variables"
   ]
  },
  {
   "cell_type": "code",
   "execution_count": 2,
   "metadata": {},
   "outputs": [
    {
     "data": {
      "text/html": [
       "<div>\n",
       "<style>\n",
       "    .dataframe thead tr:only-child th {\n",
       "        text-align: right;\n",
       "    }\n",
       "\n",
       "    .dataframe thead th {\n",
       "        text-align: left;\n",
       "    }\n",
       "\n",
       "    .dataframe tbody tr th {\n",
       "        vertical-align: top;\n",
       "    }\n",
       "</style>\n",
       "<table border=\"1\" class=\"dataframe\">\n",
       "  <thead>\n",
       "    <tr style=\"text-align: right;\">\n",
       "      <th></th>\n",
       "      <th>TARGET</th>\n",
       "      <th>NAME_CONTRACT_TYPE</th>\n",
       "      <th>CODE_GENDER</th>\n",
       "      <th>FLAG_OWN_CAR</th>\n",
       "      <th>FLAG_OWN_REALTY</th>\n",
       "      <th>CNT_CHILDREN</th>\n",
       "      <th>AMT_INCOME_TOTAL</th>\n",
       "      <th>AMT_CREDIT</th>\n",
       "      <th>NAME_FAMILY_STATUS</th>\n",
       "      <th>DAYS_EMPLOYED</th>\n",
       "      <th>DAYS_REGISTRATION</th>\n",
       "      <th>OWN_CAR_AGE</th>\n",
       "      <th>FLAG_MOBIL</th>\n",
       "      <th>FLAG_EMP_PHONE</th>\n",
       "      <th>CNT_FAM_MEMBERS</th>\n",
       "      <th>REG_REGION_NOT_LIVE_REGION</th>\n",
       "      <th>DAYS_LAST_PHONE_CHANGE</th>\n",
       "      <th>WEEKDAY_APPR_PROCESS_START</th>\n",
       "    </tr>\n",
       "  </thead>\n",
       "  <tbody>\n",
       "    <tr>\n",
       "      <th>0</th>\n",
       "      <td>1</td>\n",
       "      <td>Cash loans</td>\n",
       "      <td>M</td>\n",
       "      <td>N</td>\n",
       "      <td>Y</td>\n",
       "      <td>0</td>\n",
       "      <td>202500.0</td>\n",
       "      <td>406597.5</td>\n",
       "      <td>Single / not married</td>\n",
       "      <td>-637</td>\n",
       "      <td>-3648.0</td>\n",
       "      <td>NaN</td>\n",
       "      <td>1</td>\n",
       "      <td>1</td>\n",
       "      <td>1.0</td>\n",
       "      <td>0</td>\n",
       "      <td>-1134.0</td>\n",
       "      <td>WEDNESDAY</td>\n",
       "    </tr>\n",
       "    <tr>\n",
       "      <th>1</th>\n",
       "      <td>0</td>\n",
       "      <td>Cash loans</td>\n",
       "      <td>F</td>\n",
       "      <td>N</td>\n",
       "      <td>N</td>\n",
       "      <td>0</td>\n",
       "      <td>270000.0</td>\n",
       "      <td>1293502.5</td>\n",
       "      <td>Married</td>\n",
       "      <td>-1188</td>\n",
       "      <td>-1186.0</td>\n",
       "      <td>NaN</td>\n",
       "      <td>1</td>\n",
       "      <td>1</td>\n",
       "      <td>2.0</td>\n",
       "      <td>0</td>\n",
       "      <td>-828.0</td>\n",
       "      <td>MONDAY</td>\n",
       "    </tr>\n",
       "    <tr>\n",
       "      <th>2</th>\n",
       "      <td>0</td>\n",
       "      <td>Revolving loans</td>\n",
       "      <td>M</td>\n",
       "      <td>Y</td>\n",
       "      <td>Y</td>\n",
       "      <td>0</td>\n",
       "      <td>67500.0</td>\n",
       "      <td>135000.0</td>\n",
       "      <td>Single / not married</td>\n",
       "      <td>-225</td>\n",
       "      <td>-4260.0</td>\n",
       "      <td>26.0</td>\n",
       "      <td>1</td>\n",
       "      <td>1</td>\n",
       "      <td>1.0</td>\n",
       "      <td>0</td>\n",
       "      <td>-815.0</td>\n",
       "      <td>MONDAY</td>\n",
       "    </tr>\n",
       "    <tr>\n",
       "      <th>3</th>\n",
       "      <td>0</td>\n",
       "      <td>Cash loans</td>\n",
       "      <td>F</td>\n",
       "      <td>N</td>\n",
       "      <td>Y</td>\n",
       "      <td>0</td>\n",
       "      <td>135000.0</td>\n",
       "      <td>312682.5</td>\n",
       "      <td>Civil marriage</td>\n",
       "      <td>-3039</td>\n",
       "      <td>-9833.0</td>\n",
       "      <td>NaN</td>\n",
       "      <td>1</td>\n",
       "      <td>1</td>\n",
       "      <td>2.0</td>\n",
       "      <td>0</td>\n",
       "      <td>-617.0</td>\n",
       "      <td>WEDNESDAY</td>\n",
       "    </tr>\n",
       "    <tr>\n",
       "      <th>4</th>\n",
       "      <td>0</td>\n",
       "      <td>Cash loans</td>\n",
       "      <td>M</td>\n",
       "      <td>N</td>\n",
       "      <td>Y</td>\n",
       "      <td>0</td>\n",
       "      <td>121500.0</td>\n",
       "      <td>513000.0</td>\n",
       "      <td>Single / not married</td>\n",
       "      <td>-3038</td>\n",
       "      <td>-4311.0</td>\n",
       "      <td>NaN</td>\n",
       "      <td>1</td>\n",
       "      <td>1</td>\n",
       "      <td>1.0</td>\n",
       "      <td>0</td>\n",
       "      <td>-1106.0</td>\n",
       "      <td>THURSDAY</td>\n",
       "    </tr>\n",
       "  </tbody>\n",
       "</table>\n",
       "</div>"
      ],
      "text/plain": [
       "   TARGET NAME_CONTRACT_TYPE CODE_GENDER FLAG_OWN_CAR FLAG_OWN_REALTY  \\\n",
       "0       1         Cash loans           M            N               Y   \n",
       "1       0         Cash loans           F            N               N   \n",
       "2       0    Revolving loans           M            Y               Y   \n",
       "3       0         Cash loans           F            N               Y   \n",
       "4       0         Cash loans           M            N               Y   \n",
       "\n",
       "   CNT_CHILDREN  AMT_INCOME_TOTAL  AMT_CREDIT    NAME_FAMILY_STATUS  \\\n",
       "0             0          202500.0    406597.5  Single / not married   \n",
       "1             0          270000.0   1293502.5               Married   \n",
       "2             0           67500.0    135000.0  Single / not married   \n",
       "3             0          135000.0    312682.5        Civil marriage   \n",
       "4             0          121500.0    513000.0  Single / not married   \n",
       "\n",
       "   DAYS_EMPLOYED  DAYS_REGISTRATION  OWN_CAR_AGE  FLAG_MOBIL  FLAG_EMP_PHONE  \\\n",
       "0           -637            -3648.0          NaN           1               1   \n",
       "1          -1188            -1186.0          NaN           1               1   \n",
       "2           -225            -4260.0         26.0           1               1   \n",
       "3          -3039            -9833.0          NaN           1               1   \n",
       "4          -3038            -4311.0          NaN           1               1   \n",
       "\n",
       "   CNT_FAM_MEMBERS  REG_REGION_NOT_LIVE_REGION  DAYS_LAST_PHONE_CHANGE  \\\n",
       "0              1.0                           0                 -1134.0   \n",
       "1              2.0                           0                  -828.0   \n",
       "2              1.0                           0                  -815.0   \n",
       "3              2.0                           0                  -617.0   \n",
       "4              1.0                           0                 -1106.0   \n",
       "\n",
       "  WEEKDAY_APPR_PROCESS_START  \n",
       "0                  WEDNESDAY  \n",
       "1                     MONDAY  \n",
       "2                     MONDAY  \n",
       "3                  WEDNESDAY  \n",
       "4                   THURSDAY  "
      ]
     },
     "execution_count": 2,
     "metadata": {},
     "output_type": "execute_result"
    }
   ],
   "source": [
    "datos.head()"
   ]
  },
  {
   "cell_type": "markdown",
   "metadata": {},
   "source": [
    "## Análisis Univariado"
   ]
  },
  {
   "cell_type": "markdown",
   "metadata": {},
   "source": [
    "### variable TARGET"
   ]
  },
  {
   "cell_type": "code",
   "execution_count": 3,
   "metadata": {},
   "outputs": [
    {
     "data": {
      "image/png": "[encoded data removed]",
      "text/plain": [
       "<matplotlib.figure.Figure at 0x7f3d8c0f3f28>"
      ]
     },
     "metadata": {},
     "output_type": "display_data"
    }
   ],
   "source": [
    "datos.groupby(\"TARGET\")[\"TARGET\"].count().plot(kind='bar')\n",
    "plt.suptitle(\"Gráfico 1 \\n Gráfico de barras de la variable TARGET\")\n",
    "fig=plt.show()"
   ]
  },
  {
   "cell_type": "markdown",
   "metadata": {},
   "source": [
    "La variable TARGET es nuestra variable respuesta que indica si el cliente tuvo dificultades de pago, podemos observar en el gráfico que son pocos los clientes que presentaron dificultades de pago en comparación a los que no presentaron ninguna dificultad."
   ]
  },
  {
   "cell_type": "markdown",
   "metadata": {},
   "source": [
    "### Variable NAME_CONTRACT_TYPE"
   ]
  },
  {
   "cell_type": "code",
   "execution_count": 5,
   "metadata": {
    "scrolled": false
   },
   "outputs": [
    {
     "data": {
      "image/png": "[encoded data removed]",
      "text/plain": [
       "<matplotlib.figure.Figure at 0x7f3d4c508e10>"
      ]
     },
     "metadata": {},
     "output_type": "display_data"
    }
   ],
   "source": [
    "datos.groupby(\"NAME_CONTRACT_TYPE\")[\"NAME_CONTRACT_TYPE\"].count().plot(kind='bar',rot=0)\n",
    "plt.suptitle(\"Gráfico 2 \\n Gráfico de barras de la variable NAME_CONTRACT_TYPE\")\n",
    "plt.show()"
   ]
  },
  {
   "cell_type": "markdown",
   "metadata": {},
   "source": [
    "NAME_CONTRACT_TYPE nos indica si el préstamo esen efectivo o revolvente, el gráfico nos indica que la mayoría de los créditos son en efectivo. "
   ]
  },
  {
   "cell_type": "markdown",
   "metadata": {},
   "source": [
    "### Variable CODE_GENDER"
   ]
  },
  {
   "cell_type": "code",
   "execution_count": 6,
   "metadata": {
    "scrolled": false
   },
   "outputs": [
    {
     "data": {
      "image/png": "[encoded data removed]",
      "text/plain": [
       "<matplotlib.figure.Figure at 0x7f3d92b6bc88>"
      ]
     },
     "metadata": {},
     "output_type": "display_data"
    }
   ],
   "source": [
    "datos.groupby(\"CODE_GENDER\")[\"CODE_GENDER\"].count().plot(kind='bar',rot=0)\n",
    "plt.suptitle(\"Gráfico 3 \\n Gráfico de barras de la variable CODE_GENDER\")\n",
    "plt.show()"
   ]
  },
  {
   "cell_type": "markdown",
   "metadata": {},
   "source": [
    "La variable CODE_GENDER nos indica el género de la persona, según el gráfico son mas hombres que mujeres los que solitan créditos."
   ]
  },
  {
   "cell_type": "markdown",
   "metadata": {},
   "source": [
    "### Variable FLAG_OWN_CAR"
   ]
  },
  {
   "cell_type": "code",
   "execution_count": 7,
   "metadata": {
    "scrolled": true
   },
   "outputs": [
    {
     "data": {
      "image/png": "[encoded data removed]",
      "text/plain": [
       "<matplotlib.figure.Figure at 0x7f3d8c06cac8>"
      ]
     },
     "metadata": {},
     "output_type": "display_data"
    }
   ],
   "source": [
    "datos.groupby(\"FLAG_OWN_CAR\")[\"FLAG_OWN_CAR\"].count().plot(kind='bar',rot=0)\n",
    "plt.suptitle(\"Gráfico 4 \\n Gráfico de barras de la variable FLAG_OWN_CAR\")\n",
    "plt.show()"
   ]
  },
  {
   "cell_type": "markdown",
   "metadata": {},
   "source": [
    "La variable FLAG_OWN_CAR indica si el cliente posee auto, podemos observar en el gráfico que la mayoria de clientes que solicitan crédito poseen auto."
   ]
  },
  {
   "cell_type": "markdown",
   "metadata": {},
   "source": [
    "### Variable FLAG_OWN_REALTY"
   ]
  },
  {
   "cell_type": "code",
   "execution_count": 8,
   "metadata": {
    "scrolled": true
   },
   "outputs": [
    {
     "data": {
      "image/png": "[encoded data removed]",
      "text/plain": [
       "<matplotlib.figure.Figure at 0x7f3d4a2d9e10>"
      ]
     },
     "metadata": {},
     "output_type": "display_data"
    }
   ],
   "source": [
    "datos.groupby(\"FLAG_OWN_REALTY\")[\"FLAG_OWN_REALTY\"].count().plot(kind='bar',rot=0)\n",
    "plt.suptitle(\"Gráfico 5 \\n Gráfico de barras de la variable FLAG_OWN_REALTY\")\n",
    "plt.show()"
   ]
  },
  {
   "cell_type": "markdown",
   "metadata": {},
   "source": [
    "La variable FLAW_OWN_REALTY indica si el cliente posee casa o apartamento, el gráfico nos indica que casi el doble de los clientes que no poseen casa o apartamento, si poseen casa o apartamento"
   ]
  },
  {
   "cell_type": "markdown",
   "metadata": {},
   "source": [
    "### Variable CNT_CHILDREN"
   ]
  },
  {
   "cell_type": "code",
   "execution_count": 9,
   "metadata": {},
   "outputs": [
    {
     "data": {
      "image/png": "[encoded data removed]",
      "text/plain": [
       "<matplotlib.figure.Figure at 0x7f3d4a30c438>"
      ]
     },
     "metadata": {},
     "output_type": "display_data"
    }
   ],
   "source": [
    "datos.hist(column=\"CNT_CHILDREN\",bins=20)\n",
    "plt.title(\"Gráfico 6 \\n Histograma de la variable  CNT_CHILDREN\")\n",
    "plt.show()"
   ]
  },
  {
   "cell_type": "markdown",
   "metadata": {},
   "source": [
    "La variable CNT_CHILDREN nos indica el número de hijos del cliente, podemos notar que la cantidad de hijos de los clientes está ente 0 y 19, gran parte de ellos tienen entre 0 y 1 hijos."
   ]
  },
  {
   "cell_type": "code",
   "execution_count": 10,
   "metadata": {
    "scrolled": true
   },
   "outputs": [
    {
     "name": "stdout",
     "output_type": "stream",
     "text": [
      "count    307511.000000\n",
      "mean          0.417052\n",
      "std           0.722121\n",
      "min           0.000000\n",
      "25%           0.000000\n",
      "50%           0.000000\n",
      "75%           1.000000\n",
      "max          19.000000\n",
      "Name: CNT_CHILDREN, dtype: float64\n"
     ]
    }
   ],
   "source": [
    "print(datos[\"CNT_CHILDREN\"].describe())"
   ]
  },
  {
   "cell_type": "markdown",
   "metadata": {},
   "source": [
    "### Variable AMT_INCOME_TOTAL"
   ]
  },
  {
   "cell_type": "code",
   "execution_count": 11,
   "metadata": {},
   "outputs": [
    {
     "data": {
      "image/png": "[encoded data removed]",
      "text/plain": [
       "<matplotlib.figure.Figure at 0x7f3d4a2897b8>"
      ]
     },
     "metadata": {},
     "output_type": "display_data"
    }
   ],
   "source": [
    "datos.hist(column=\"AMT_INCOME_TOTAL\",bins=20)\n",
    "plt.title(\"Gráfico 7 \\n Histograma de la variable AMT_INCOME_TOTAL\")\n",
    "plt.show()"
   ]
  },
  {
   "cell_type": "markdown",
   "metadata": {},
   "source": [
    "La variable AMT_INCOME_TOTAL indica los ingresos totales del cliente en pesos filipinos, podemos ver que existe una gran desigualdad en cuanto a los ingresos del cliente, tenemos una desviación estándar bastante alta de 233,712.31 pesos filipinos"
   ]
  },
  {
   "cell_type": "code",
   "execution_count": 12,
   "metadata": {
    "scrolled": false
   },
   "outputs": [
    {
     "name": "stdout",
     "output_type": "stream",
     "text": [
      "count    3.075110e+05\n",
      "mean     1.687979e+05\n",
      "std      2.371231e+05\n",
      "min      2.565000e+04\n",
      "25%      1.125000e+05\n",
      "50%      1.471500e+05\n",
      "75%      2.025000e+05\n",
      "max      1.170000e+08\n",
      "Name: AMT_INCOME_TOTAL, dtype: float64\n"
     ]
    }
   ],
   "source": [
    "print(datos[\"AMT_INCOME_TOTAL\"].describe())"
   ]
  },
  {
   "cell_type": "markdown",
   "metadata": {},
   "source": [
    "### Variable AMT_CREDIT"
   ]
  },
  {
   "cell_type": "code",
   "execution_count": 13,
   "metadata": {},
   "outputs": [
    {
     "data": {
      "image/png": "[encoded data removed]",
      "text/plain": [
       "<matplotlib.figure.Figure at 0x7f3d4a1d6390>"
      ]
     },
     "metadata": {},
     "output_type": "display_data"
    }
   ],
   "source": [
    "datos.hist(column=\"AMT_CREDIT\",bins=20)\n",
    "plt.title(\"Gráfico 8 \\n Histograma de la variable AMT_CREDIT\")\n",
    "plt.show()"
   ]
  },
  {
   "cell_type": "markdown",
   "metadata": {},
   "source": [
    "La variable AMT_CREDIT indica el monto del crédito, tenemos un mínimo, 450,000 pesos filipinos y un máximo de 4,050,000 pesos filipinos"
   ]
  },
  {
   "cell_type": "code",
   "execution_count": 14,
   "metadata": {},
   "outputs": [
    {
     "name": "stdout",
     "output_type": "stream",
     "text": [
      "count    3.075110e+05\n",
      "mean     5.990260e+05\n",
      "std      4.024908e+05\n",
      "min      4.500000e+04\n",
      "25%      2.700000e+05\n",
      "50%      5.135310e+05\n",
      "75%      8.086500e+05\n",
      "max      4.050000e+06\n",
      "Name: AMT_CREDIT, dtype: float64\n"
     ]
    }
   ],
   "source": [
    "print(datos[\"AMT_CREDIT\"].describe())"
   ]
  },
  {
   "cell_type": "markdown",
   "metadata": {},
   "source": [
    "### variable NAME_FAMILY_STATUS"
   ]
  },
  {
   "cell_type": "code",
   "execution_count": 15,
   "metadata": {
    "scrolled": true
   },
   "outputs": [
    {
     "data": {
      "image/png": "[encoded data removed]",
      "text/plain": [
       "<matplotlib.figure.Figure at 0x7f3d4a1243c8>"
      ]
     },
     "metadata": {},
     "output_type": "display_data"
    }
   ],
   "source": [
    "datos.groupby(\"NAME_FAMILY_STATUS\")[\"NAME_FAMILY_STATUS\"].count().plot(kind='bar',rot=90,left=0.2)\n",
    "plt.title(\"Gráfico 9 \\n Gráfico de barras de la variable NAME_FAMILY_STATUS\")\n",
    "plt.show()"
   ]
  },
  {
   "cell_type": "markdown",
   "metadata": {},
   "source": [
    "La variable NAME_FAMILY_ESTATUS nos indica el estado civil del cliente, podemos observar en el gráfico que la mayoria de los clientes son casados, y muy pocos no dieron su estado civil."
   ]
  },
  {
   "cell_type": "markdown",
   "metadata": {},
   "source": [
    "### Variable DAYS_EMPLOYED"
   ]
  },
  {
   "cell_type": "code",
   "execution_count": 16,
   "metadata": {
    "scrolled": false
   },
   "outputs": [
    {
     "data": {
      "image/png": "[encoded data removed]",
      "text/plain": [
       "<matplotlib.figure.Figure at 0x7f3d4a12c2e8>"
      ]
     },
     "metadata": {},
     "output_type": "display_data"
    }
   ],
   "source": [
    "datos.hist(column=\"DAYS_EMPLOYED\",bins=20)\n",
    "plt.title(\"Gráfico 10 \\n Histograma de la variable DAYS_EMPLOYED\")\n",
    "plt.show()"
   ]
  },
  {
   "cell_type": "markdown",
   "metadata": {},
   "source": [
    "La variable DAYS_EMPLOYED indica la cantidad de dias trabajados antes a la solicitud del préstamo"
   ]
  },
  {
   "cell_type": "code",
   "execution_count": 17,
   "metadata": {},
   "outputs": [
    {
     "name": "stdout",
     "output_type": "stream",
     "text": [
      "count    307511.000000\n",
      "mean      63815.045904\n",
      "std      141275.766519\n",
      "min      -17912.000000\n",
      "25%       -2760.000000\n",
      "50%       -1213.000000\n",
      "75%        -289.000000\n",
      "max      365243.000000\n",
      "Name: DAYS_EMPLOYED, dtype: float64\n"
     ]
    }
   ],
   "source": [
    "print(datos[\"DAYS_EMPLOYED\"].describe())"
   ]
  },
  {
   "cell_type": "markdown",
   "metadata": {},
   "source": [
    "### Variable DAYS_REGISTRATION"
   ]
  },
  {
   "cell_type": "code",
   "execution_count": 18,
   "metadata": {
    "scrolled": true
   },
   "outputs": [
    {
     "data": {
      "image/png": "[encoded data removed]",
      "text/plain": [
       "<matplotlib.figure.Figure at 0x7f3d4a08ea58>"
      ]
     },
     "metadata": {},
     "output_type": "display_data"
    }
   ],
   "source": [
    "datos.hist(column=\"DAYS_REGISTRATION\",bins=20)\n",
    "plt.title(\"Gráfico 11 \\n Histograma de la variable DAYS_REGISTRATION\")\n",
    "plt.show()"
   ]
  },
  {
   "cell_type": "markdown",
   "metadata": {},
   "source": [
    "La variable DAYS_REGISTRATION indica cuántos días antes de la solicitud el cliente cambió el documento de identidad con el que solicitó el préstamo, podemos ver en el gráfico que son relativamente pocos los que tienen abajo de 1000 dias antes de haber cambiado el documento de identidad."
   ]
  },
  {
   "cell_type": "code",
   "execution_count": 19,
   "metadata": {
    "scrolled": true
   },
   "outputs": [
    {
     "name": "stdout",
     "output_type": "stream",
     "text": [
      "count    307511.000000\n",
      "mean      -4986.120328\n",
      "std        3522.886321\n",
      "min      -24672.000000\n",
      "25%       -7479.500000\n",
      "50%       -4504.000000\n",
      "75%       -2010.000000\n",
      "max           0.000000\n",
      "Name: DAYS_REGISTRATION, dtype: float64\n"
     ]
    }
   ],
   "source": [
    "print(datos[\"DAYS_REGISTRATION\"].describe())"
   ]
  },
  {
   "cell_type": "markdown",
   "metadata": {},
   "source": [
    "### Variable OWN_CAR_AGE"
   ]
  },
  {
   "cell_type": "code",
   "execution_count": 20,
   "metadata": {},
   "outputs": [
    {
     "data": {
      "image/png": "[encoded data removed]",
      "text/plain": [
       "<matplotlib.figure.Figure at 0x7f3d4a0ac0b8>"
      ]
     },
     "metadata": {},
     "output_type": "display_data"
    }
   ],
   "source": [
    "datos.hist(column=\"OWN_CAR_AGE\",bins=20)\n",
    "plt.title(\"Gráfico 12 \\n Histograma de la variable OWN_CAR_AGE\")\n",
    "plt.show()"
   ]
  },
  {
   "cell_type": "markdown",
   "metadata": {},
   "source": [
    "La variable OWN_CARE_AGE nos indica la edad en años del carro, el promedio de la edad del carro es de 12 años, y una edad máxima de 91 años."
   ]
  },
  {
   "cell_type": "code",
   "execution_count": 21,
   "metadata": {
    "scrolled": true
   },
   "outputs": [
    {
     "name": "stdout",
     "output_type": "stream",
     "text": [
      "count    104582.000000\n",
      "mean         12.061091\n",
      "std          11.944812\n",
      "min           0.000000\n",
      "25%           5.000000\n",
      "50%           9.000000\n",
      "75%          15.000000\n",
      "max          91.000000\n",
      "Name: OWN_CAR_AGE, dtype: float64\n"
     ]
    }
   ],
   "source": [
    "print(datos[\"OWN_CAR_AGE\"].describe())"
   ]
  },
  {
   "cell_type": "markdown",
   "metadata": {},
   "source": [
    "### Variable FLAG_MOBIL"
   ]
  },
  {
   "cell_type": "code",
   "execution_count": 22,
   "metadata": {
    "scrolled": true
   },
   "outputs": [
    {
     "data": {
      "image/png": "[encoded data removed]",
      "text/plain": [
       "<matplotlib.figure.Figure at 0x7f3d4a36c160>"
      ]
     },
     "metadata": {},
     "output_type": "display_data"
    }
   ],
   "source": [
    "datos.groupby(\"FLAG_MOBIL\")[\"FLAG_MOBIL\"].count().plot(kind='bar',rot=12)\n",
    "plt.title(\"Gráfico 13 \\n Gráfico de barras de la variable FLAG_MOBIL\")\n",
    "plt.show()"
   ]
  },
  {
   "cell_type": "markdown",
   "metadata": {},
   "source": [
    "La variable FLAG_MOBIL indica si el cliente proporcionó un número de teléfono móvil, podemos ver que la mayoria  de clientes casi en su totalidad proporcionan un número de teléfono móvil. además en la infomación de abajo podemos ver que solamente un cliente no proporcionó el número de teléfono móvil."
   ]
  },
  {
   "cell_type": "code",
   "execution_count": 23,
   "metadata": {
    "scrolled": true
   },
   "outputs": [
    {
     "data": {
      "text/plain": [
       "FLAG_MOBIL\n",
       "0         1\n",
       "1    307510\n",
       "Name: FLAG_MOBIL, dtype: int64"
      ]
     },
     "execution_count": 23,
     "metadata": {},
     "output_type": "execute_result"
    }
   ],
   "source": [
    "datos.groupby(\"FLAG_MOBIL\")[\"FLAG_MOBIL\"].count()"
   ]
  },
  {
   "cell_type": "markdown",
   "metadata": {},
   "source": [
    "### Variable CNT_FAM_MEMBERS"
   ]
  },
  {
   "cell_type": "code",
   "execution_count": 24,
   "metadata": {},
   "outputs": [
    {
     "data": {
      "image/png": "[encoded data removed]",
      "text/plain": [
       "<matplotlib.figure.Figure at 0x7f3d4c4292e8>"
      ]
     },
     "metadata": {},
     "output_type": "display_data"
    }
   ],
   "source": [
    "datos.hist(column=\"CNT_FAM_MEMBERS\",bins=20)\n",
    "plt.title(\"Gráfico 15 \\n Histograma de la variable CNT_FAM_MEMBERS\")\n",
    "plt.show()"
   ]
  },
  {
   "cell_type": "markdown",
   "metadata": {},
   "source": [
    "La variable CNT_FAM_MEMBERS proporciona el número de integrantes de la familia del cliente, en promedio tienen dos integrantes, con un mínimo de 20 integrantes y un mínimo de 1.  "
   ]
  },
  {
   "cell_type": "code",
   "execution_count": 25,
   "metadata": {
    "scrolled": true
   },
   "outputs": [
    {
     "name": "stdout",
     "output_type": "stream",
     "text": [
      "count    307509.000000\n",
      "mean          2.152665\n",
      "std           0.910682\n",
      "min           1.000000\n",
      "25%           2.000000\n",
      "50%           2.000000\n",
      "75%           3.000000\n",
      "max          20.000000\n",
      "Name: CNT_FAM_MEMBERS, dtype: float64\n"
     ]
    }
   ],
   "source": [
    "print(datos[\"CNT_FAM_MEMBERS\"].describe())"
   ]
  },
  {
   "cell_type": "markdown",
   "metadata": {},
   "source": [
    "### Variable REG_REGION_NOT_LIVE_REGION"
   ]
  },
  {
   "cell_type": "markdown",
   "metadata": {},
   "source": [
    "datos.groupby(\"REG_REGION_NOT_LIVE_REGION\")[\"REG_REGION_NOT_LIVE_REGION\"].count().plot(kind='bar',rot=0)\n",
    "plt.title(\"Gráfico 16 \\n Gráfico de barras de la variable REG_REGION_NOT_LIVE_REGION\")\n",
    "plt.show()"
   ]
  },
  {
   "cell_type": "markdown",
   "metadata": {},
   "source": [
    "La variable REG_REGION_NOT_LIVE_REGION nos indica si la dirección proporcionada por el cliente coincide. podemos notar que en su mayoria la dirección coincide."
   ]
  },
  {
   "cell_type": "markdown",
   "metadata": {},
   "source": [
    "### Variable DAYS_LAST_PHONE_CHANGE"
   ]
  },
  {
   "cell_type": "code",
   "execution_count": 26,
   "metadata": {
    "scrolled": true
   },
   "outputs": [
    {
     "data": {
      "image/png": "[encoded data removed]",
      "text/plain": [
       "<matplotlib.figure.Figure at 0x7f3d4a39bcf8>"
      ]
     },
     "metadata": {},
     "output_type": "display_data"
    }
   ],
   "source": [
    "datos.hist(column=\"DAYS_LAST_PHONE_CHANGE\",bins=20)\n",
    "plt.title(\"Gráfico 17 \\n Histograma de la variable DAYS_LAST_PHONE_CHANGE\")\n",
    "plt.show()"
   ]
  },
  {
   "cell_type": "markdown",
   "metadata": {},
   "source": [
    "La variable DAYS_LAST_PHONE_CHANGE indica cuántos días antes de la aplicación el cliente cambió de teléfono, en promedio los clientes cambiaron su teléfono 963 dias atrás. "
   ]
  },
  {
   "cell_type": "code",
   "execution_count": 27,
   "metadata": {
    "scrolled": true
   },
   "outputs": [
    {
     "name": "stdout",
     "output_type": "stream",
     "text": [
      "count    307510.000000\n",
      "mean       -962.858788\n",
      "std         826.808487\n",
      "min       -4292.000000\n",
      "25%       -1570.000000\n",
      "50%        -757.000000\n",
      "75%        -274.000000\n",
      "max           0.000000\n",
      "Name: DAYS_LAST_PHONE_CHANGE, dtype: float64\n"
     ]
    }
   ],
   "source": [
    "print(datos[\"DAYS_LAST_PHONE_CHANGE\"].describe())"
   ]
  },
  {
   "cell_type": "markdown",
   "metadata": {},
   "source": [
    "### Variable WEEKDAY_APPR_PROCESS_START"
   ]
  },
  {
   "cell_type": "code",
   "execution_count": 28,
   "metadata": {},
   "outputs": [
    {
     "data": {
      "image/png": "[encoded data removed]",
      "text/plain": [
       "<matplotlib.figure.Figure at 0x7f3d4a0e5b70>"
      ]
     },
     "metadata": {},
     "output_type": "display_data"
    }
   ],
   "source": [
    "datos.groupby(\"WEEKDAY_APPR_PROCESS_START\")[\"WEEKDAY_APPR_PROCESS_START\"].count().plot(kind='bar',rot=12)\n",
    "plt.title(\"Gráfico 18 \\n Gráfico de barras de la variable WEEKDAY_APPR_PROCESS_START\")\n",
    "plt.show()"
   ]
  },
  {
   "cell_type": "markdown",
   "metadata": {
    "collapsed": true
   },
   "source": [
    "La variable WEEKDAY_APPR_PROCESS_START indica el día de la semana que el cliente inicio el proceso, podemos ver el gráfico que entre semana la cantidad de clientes que solicitan préstamo son bastante similares pero se nota una baja en los dias sábado y aún más domingo."
   ]
  },
  {
   "cell_type": "markdown",
   "metadata": {},
   "source": [
    "# Análisis bivariado"
   ]
  },
  {
   "cell_type": "markdown",
   "metadata": {},
   "source": [
    "###  TARGET vrs CNT_CHILDEN "
   ]
  },
  {
   "cell_type": "code",
   "execution_count": 32,
   "metadata": {
    "scrolled": true
   },
   "outputs": [
    {
     "data": {
      "image/png": "[encoded data removed]",
      "text/plain": [
       "<matplotlib.figure.Figure at 0x7f3d4a1beba8>"
      ]
     },
     "metadata": {},
     "output_type": "display_data"
    }
   ],
   "source": [
    "import seaborn as sns\n",
    "sns.boxplot(x=\"TARGET\", y=\"CNT_CHILDREN\", data=datos, palette=\"PRGn\")\n",
    "sns.despine(offset=10, trim=True)\n",
    "plt.title(\"Gráfico 19 \\n Gráfico de cajas de las variables TARGET vrs CNT_CHILDREN \")\n",
    "plt.show()"
   ]
  },
  {
   "cell_type": "markdown",
   "metadata": {},
   "source": [
    "Podemos ver que la cantidad de hijos son más dispersos para los clientes \n",
    "que no tuvieron dificultades de pago, mientras que los que tuvieron dificultades se concentran más próximos a la media"
   ]
  },
  {
   "cell_type": "markdown",
   "metadata": {},
   "source": [
    "### TARGET  vrs AMT_INCOME_TOTAL\n"
   ]
  },
  {
   "cell_type": "code",
   "execution_count": 33,
   "metadata": {},
   "outputs": [
    {
     "data": {
      "image/png": "[encoded data removed]",
      "text/plain": [
       "<matplotlib.figure.Figure at 0x7f3d4a366cc0>"
      ]
     },
     "metadata": {},
     "output_type": "display_data"
    }
   ],
   "source": [
    "sns.boxplot(x=\"TARGET\", y=\"AMT_INCOME_TOTAL\", data=datos, palette=\"PRGn\")\n",
    "sns.despine(offset=10, trim=True)\n",
    "plt.title(\"Gráfico 20 \\n Gráfico de cajas de las variables TARGET vrs AMT_INCOME_TOTAL \")\n",
    "plt.show()"
   ]
  },
  {
   "cell_type": "markdown",
   "metadata": {},
   "source": [
    "Podemos notar un punto demasiado alejado de la media, en el caso cuando el cliente no tiene dificultades de pago"
   ]
  },
  {
   "cell_type": "code",
   "execution_count": 34,
   "metadata": {
    "collapsed": true
   },
   "outputs": [],
   "source": [
    "datos= datos[datos[\"AMT_INCOME_TOTAL\"]!=max(datos[\"AMT_INCOME_TOTAL\"])]"
   ]
  },
  {
   "cell_type": "code",
   "execution_count": 39,
   "metadata": {},
   "outputs": [
    {
     "data": {
      "image/png": "[encoded data removed]",
      "text/plain": [
       "<matplotlib.figure.Figure at 0x7f3d4c4d95f8>"
      ]
     },
     "metadata": {},
     "output_type": "display_data"
    }
   ],
   "source": [
    "sns.boxplot(x=\"TARGET\", y=\"AMT_INCOME_TOTAL\", data=datos, palette=\"PRGn\")\n",
    "sns.despine(offset=10, trim=True)\n",
    "plt.title(\"Gráfico 21 \\n Gráfico de cajas de las variables TARGET vrs AMT_INCOME_TOTAL \")\n",
    "plt.show()"
   ]
  },
  {
   "cell_type": "markdown",
   "metadata": {},
   "source": [
    "Podemos notar que al quitar ese punto el gráfico varia en gran medida, por lo que era necesario quitarlo. "
   ]
  },
  {
   "cell_type": "markdown",
   "metadata": {},
   "source": [
    "### TARGET vrs AMT_CREDIT"
   ]
  },
  {
   "cell_type": "code",
   "execution_count": 40,
   "metadata": {},
   "outputs": [
    {
     "data": {
      "image/png": "[encoded data removed]",
      "text/plain": [
       "<matplotlib.figure.Figure at 0x7f3d4a292cf8>"
      ]
     },
     "metadata": {},
     "output_type": "display_data"
    }
   ],
   "source": [
    "sns.boxplot(x=\"TARGET\", y=\"AMT_CREDIT\", data=datos, palette=\"PRGn\")\n",
    "sns.despine(offset=10, trim=True)\n",
    "plt.title(\"Gráfico 22 \\n Gráfico de cajas de las variables TARGET vrs AMT_CREDIT \")\n",
    "plt.show()\n"
   ]
  },
  {
   "cell_type": "code",
   "execution_count": 41,
   "metadata": {},
   "outputs": [
    {
     "data": {
      "image/png": "[encoded data removed]",
      "text/plain": [
       "<matplotlib.figure.Figure at 0x7f3d4a1245c0>"
      ]
     },
     "metadata": {},
     "output_type": "display_data"
    }
   ],
   "source": [
    "sns.violinplot(x=\"TARGET\", y=\"AMT_CREDIT\", data=datos, palette=\"PRGn\")\n",
    "sns.despine(offset=10, trim=True)\n",
    "plt.title(\"Gráfico 23 \\n Gráfico de cajas de las variables TARGET vrs AMT_CREDIT \")\n",
    "plt.show()"
   ]
  },
  {
   "cell_type": "markdown",
   "metadata": {},
   "source": [
    "Podemos ver en el gráfico que los montos de los préstamos tienen distribuciones similares para los clientes con difultades de pago y los que no tienen dificultades de pago"
   ]
  },
  {
   "cell_type": "markdown",
   "metadata": {},
   "source": [
    "###  TARGET vrs DAYS_EMPLOYED "
   ]
  },
  {
   "cell_type": "code",
   "execution_count": 42,
   "metadata": {},
   "outputs": [
    {
     "data": {
      "image/png": "[encoded data removed]",
      "text/plain": [
       "<matplotlib.figure.Figure at 0x7f3d36dd87b8>"
      ]
     },
     "metadata": {},
     "output_type": "display_data"
    }
   ],
   "source": [
    "sns.violinplot(x=\"TARGET\", y=\"DAYS_EMPLOYED\", data=datos, palette=\"PRGn\")\n",
    "sns.despine(offset=10, trim=True)\n",
    "plt.title(\"Gráfico 24 \\n Gráfico de cajas de las variables TARGET vrs AMT_DAYS_EMPLOYED \")\n",
    "plt.show()\n"
   ]
  },
  {
   "cell_type": "markdown",
   "metadata": {
    "collapsed": true
   },
   "source": [
    "Se puede apreciar en el gráfico que de los clientes con pocos dias atrás trabajados son más frecuentes los que no presentaron \n",
    "presentaron dificultades para pagar, de manera similar con los tenian muchos dias atrás de trabajar"
   ]
  },
  {
   "cell_type": "markdown",
   "metadata": {},
   "source": [
    "### TARGET vrs DAYS_REGISTRATION"
   ]
  },
  {
   "cell_type": "code",
   "execution_count": 43,
   "metadata": {},
   "outputs": [
    {
     "data": {
      "image/png": "[encoded data removed]",
      "text/plain": [
       "<matplotlib.figure.Figure at 0x7f3d4a14d8d0>"
      ]
     },
     "metadata": {},
     "output_type": "display_data"
    }
   ],
   "source": [
    "sns.violinplot(x=\"TARGET\", y=\"DAYS_REGISTRATION\", data=datos, palette=\"PRGn\")\n",
    "sns.despine(offset=10, trim=True)\n",
    "plt.title(\"Gráfico 25 \\n Gráfico de cajas de las variables TARGET vrs DAYS_REGISTRATION \")\n",
    "plt.show()"
   ]
  },
  {
   "cell_type": "markdown",
   "metadata": {},
   "source": [
    "En el gráfico se puede apreciar que las distribuciones y las frecuencias de días antes de la solicitud en el que \n",
    "el cliente cambió el documento de identidad con el que solicitó el préstamo se comportan de manera similar para\n",
    "los clientes que presentaron dificultades de pago como para los que no presentaron dificultades de pago"
   ]
  },
  {
   "cell_type": "markdown",
   "metadata": {},
   "source": [
    "###  TARGET vrs OWN_CAR_AGE"
   ]
  },
  {
   "cell_type": "code",
   "execution_count": 44,
   "metadata": {},
   "outputs": [
    {
     "data": {
      "image/png": "[encoded data removed]",
      "text/plain": [
       "<matplotlib.figure.Figure at 0x7f3d4a3359e8>"
      ]
     },
     "metadata": {},
     "output_type": "display_data"
    }
   ],
   "source": [
    "sns.violinplot(x=\"TARGET\", y=\"OWN_CAR_AGE\", data=datos, palette=\"PRGn\")\n",
    "sns.despine(offset=10, trim=True)\n",
    "plt.title(\"Gráfico 26 \\n Gráfico de cajas de las variables TARGET vrs OWN_CAR_AGE \")\n",
    "plt.show()"
   ]
  },
  {
   "cell_type": "markdown",
   "metadata": {},
   "source": [
    "Podemos observar que la edad del carro del cliente las frecuencias estan concentradas entre cero y cuarenta años, y además\n",
    "esas edades son más frecuentes en los que no presentaron dificultades de pago"
   ]
  },
  {
   "cell_type": "markdown",
   "metadata": {},
   "source": [
    "### TARGET vrs CNT_FAM_MEMBERS"
   ]
  },
  {
   "cell_type": "code",
   "execution_count": 45,
   "metadata": {},
   "outputs": [
    {
     "data": {
      "image/png": "[encoded data removed]",
      "text/plain": [
       "<matplotlib.figure.Figure at 0x7f3d36dfa7b8>"
      ]
     },
     "metadata": {},
     "output_type": "display_data"
    }
   ],
   "source": [
    "sns.violinplot(x=\"TARGET\", y=\"CNT_FAM_MEMBERS\", data=datos, palette=\"PRGn\")\n",
    "sns.despine(offset=10, trim=True)\n",
    "plt.title(\"Gráfico 27 \\n Gráfico de cajas de las variables TARGET vrs CNT_FAM_MEMBERS \")\n",
    "plt.show()"
   ]
  },
  {
   "cell_type": "markdown",
   "metadata": {},
   "source": [
    "Nótese en el gráfico que en cuanto al número de integrantes de la familia del cliente las distribuciones y las frecuentas\n",
    "son muy distintas para las personas que preentaron dificultades de pago y las que no presentaron dificultades de pago."
   ]
  },
  {
   "cell_type": "markdown",
   "metadata": {},
   "source": [
    "### TARGET vrs  DAYS_LAST_PHONE_CHANGE"
   ]
  },
  {
   "cell_type": "code",
   "execution_count": 46,
   "metadata": {},
   "outputs": [
    {
     "data": {
      "image/png": "[encoded data removed]",
      "text/plain": [
       "<matplotlib.figure.Figure at 0x7f3d36d329e8>"
      ]
     },
     "metadata": {},
     "output_type": "display_data"
    }
   ],
   "source": [
    "sns.violinplot(x=\"TARGET\", y=\"DAYS_LAST_PHONE_CHANGE\", data=datos, palette=\"PRGn\")\n",
    "sns.despine(offset=10, trim=True)\n",
    "plt.title(\"Gráfico 28 \\n Gráfico de cajas de las variables TARGET vrs  DAYS_LAST_PHONE_CHANGE\")\n",
    "plt.show()"
   ]
  },
  {
   "cell_type": "markdown",
   "metadata": {},
   "source": [
    "En el gráfico se puede apreciar que las distribuciones y las frecuencias de días antes en el que el cliente cambió de  \n",
    "teléfono  se comportan de manera similar para los clientes que presentaron dificultades de pago como para los que no \n",
    "presentaron dificultades de pago."
   ]
  },
  {
   "cell_type": "markdown",
   "metadata": {},
   "source": [
    "### TARGET vrs NAME_CONTRACT_TYPE"
   ]
  },
  {
   "cell_type": "code",
   "execution_count": 47,
   "metadata": {},
   "outputs": [
    {
     "name": "stdout",
     "output_type": "stream",
     "text": [
      "                           TARGET  NAME_CONTRACT_TYPE\n",
      "TARGET NAME_CONTRACT_TYPE                            \n",
      "0      Cash loans          255010              255010\n",
      "       Revolving loans      27675               27675\n",
      "1      Cash loans           23220               23220\n",
      "       Revolving loans       1604                1604\n"
     ]
    }
   ],
   "source": [
    "print(datos.groupby([\"TARGET\", \"NAME_CONTRACT_TYPE\"])[\"TARGET\", \"NAME_CONTRACT_TYPE\"].count())\n"
   ]
  },
  {
   "cell_type": "code",
   "execution_count": 48,
   "metadata": {},
   "outputs": [
    {
     "data": {
      "image/png": "[encoded data removed]",
      "text/plain": [
       "<matplotlib.figure.Figure at 0x7f3d36cfc3c8>"
      ]
     },
     "metadata": {},
     "output_type": "display_data"
    }
   ],
   "source": [
    "x, y, hue =  \"TARGET\", \"prop\", \"NAME_CONTRACT_TYPE\"\n",
    "\n",
    "\n",
    "(datos[x]\n",
    " .groupby(datos[hue])\n",
    " .value_counts(normalize=True)\n",
    " .rename(y)\n",
    " .reset_index()\n",
    " .pipe((sns.barplot, \"data\"), x=x, y=y, hue=hue))\n",
    "\n",
    "sns.despine(offset=10, trim=True)\n",
    "plt.title(\"Gráfico 29 \\n Gráfico de cajas de las variables TARGET vrs  NAME_CONTRACT_TYPE\")\n",
    "plt.show()"
   ]
  },
  {
   "cell_type": "markdown",
   "metadata": {},
   "source": [
    "Podemos apreciar en el gráfico como en la tabla de doble entrada que de los clientes que no presentaron dificultades de pago \n",
    "el crédito más frecuente es el de tipo revolvente, mientras de los que presentaron dificultades de pago el crédito más \n",
    "frecuente es el de tipo efectivo."
   ]
  },
  {
   "cell_type": "markdown",
   "metadata": {},
   "source": [
    "### TARGET vrs CODE_GENDER"
   ]
  },
  {
   "cell_type": "code",
   "execution_count": 49,
   "metadata": {},
   "outputs": [
    {
     "name": "stdout",
     "output_type": "stream",
     "text": [
      "                    TARGET  CODE_GENDER\n",
      "TARGET CODE_GENDER                     \n",
      "0      F            188278       188278\n",
      "       M             94403        94403\n",
      "       XNA               4            4\n",
      "1      F             14169        14169\n",
      "       M             10655        10655\n"
     ]
    }
   ],
   "source": [
    "print(datos.groupby([\"TARGET\", \"CODE_GENDER\"])[\"TARGET\", \"CODE_GENDER\"].count())"
   ]
  },
  {
   "cell_type": "code",
   "execution_count": 50,
   "metadata": {},
   "outputs": [
    {
     "data": {
      "image/png": "[encoded data removed]",
      "text/plain": [
       "<matplotlib.figure.Figure at 0x7f3d36dc9320>"
      ]
     },
     "metadata": {},
     "output_type": "display_data"
    }
   ],
   "source": [
    "x, y, hue =  \"TARGET\", \"prop\", \"CODE_GENDER\"\n",
    "\n",
    "\n",
    "(datos[x]\n",
    " .groupby(datos[hue])\n",
    " .value_counts(normalize=True)\n",
    " .rename(y)\n",
    " .reset_index()\n",
    " .pipe((sns.barplot, \"data\"), x=x, y=y, hue=hue))\n",
    "\n",
    "sns.despine(offset=10, trim=True)\n",
    "plt.title(\"Gráfico 30 \\n Gráfico de cajas de las variables TARGET vrs  CODE_GENDER\")\n",
    "plt.show()"
   ]
  },
  {
   "cell_type": "markdown",
   "metadata": {},
   "source": [
    "Tanto en el gráfico como en la tabla de doble entrada podemos ver que en los que no presentaron dificultades de pago son más\n",
    "frecuentes los clientes que no definen su sexo, mientras que en los que presentaron dificultades de pago los hombres son más\n",
    "frecuentes"
   ]
  },
  {
   "cell_type": "markdown",
   "metadata": {},
   "source": [
    "### TARGET vrs FLAG_OWN_CAR"
   ]
  },
  {
   "cell_type": "code",
   "execution_count": 51,
   "metadata": {},
   "outputs": [
    {
     "data": {
      "image/png": "[encoded data removed]",
      "text/plain": [
       "<matplotlib.figure.Figure at 0x7f3d36d29e10>"
      ]
     },
     "metadata": {},
     "output_type": "display_data"
    }
   ],
   "source": [
    "x, y, hue =  \"TARGET\", \"prop\", \"FLAG_OWN_CAR\"\n",
    "\n",
    "\n",
    "(datos[x]\n",
    " .groupby(datos[hue])\n",
    " .value_counts(normalize=True)\n",
    " .rename(y)\n",
    " .reset_index()\n",
    " .pipe((sns.barplot, \"data\"), x=x, y=y, hue=hue))\n",
    "\n",
    "sns.despine(offset=10, trim=True)\n",
    "plt.title(\"Gráfico 31 \\n Gráfico de cajas de las variables TARGET vrs FLAG_OWN_CAR \")\n",
    "plt.show()"
   ]
  },
  {
   "cell_type": "markdown",
   "metadata": {},
   "source": [
    "El gráfico nos indica que de las personas que no preasentaron dificultades de pago son más frecuentes las que possen carro, coso contrario con las que si presentaron dificultades de pago"
   ]
  },
  {
   "cell_type": "markdown",
   "metadata": {},
   "source": [
    "### TARGET vrs  FLAG_OWN_REALTY"
   ]
  },
  {
   "cell_type": "code",
   "execution_count": 52,
   "metadata": {},
   "outputs": [
    {
     "data": {
      "image/png": "[encoded data removed]",
      "text/plain": [
       "<matplotlib.figure.Figure at 0x7f3d393f4d68>"
      ]
     },
     "metadata": {},
     "output_type": "display_data"
    }
   ],
   "source": [
    "x, y, hue =  \"TARGET\", \"prop\", \"FLAG_OWN_REALTY\"\n",
    "\n",
    "\n",
    "(datos[x]\n",
    " .groupby(datos[hue])\n",
    " .value_counts(normalize=True)\n",
    " .rename(y)\n",
    " .reset_index()\n",
    " .pipe((sns.barplot, \"data\"), x=x, y=y, hue=hue))\n",
    "\n",
    "sns.despine(offset=10, trim=True)\n",
    "plt.title(\"Gráfico 32 \\n Gráfico de cajas de las variables TARGET vrs  FLAG_OWN_REALTY\")\n",
    "plt.show()"
   ]
  },
  {
   "cell_type": "markdown",
   "metadata": {},
   "source": [
    "El gráfico nos indica que los clientes que poseen casa son proporcionalmente iguales a las que no poseen casa\n",
    "tanto en los clientes que presentaron dificultades de pago como en los que no"
   ]
  },
  {
   "cell_type": "markdown",
   "metadata": {},
   "source": [
    "### TARGET vrs NAME_FAMILY_STATUS"
   ]
  },
  {
   "cell_type": "code",
   "execution_count": 53,
   "metadata": {},
   "outputs": [
    {
     "data": {
      "image/png": "[encoded data removed]",
      "text/plain": [
       "<matplotlib.figure.Figure at 0x7f3d4c8cf518>"
      ]
     },
     "metadata": {},
     "output_type": "display_data"
    }
   ],
   "source": [
    "x, y, hue =  \"TARGET\", \"prop\", \"NAME_FAMILY_STATUS\"\n",
    "\n",
    "\n",
    "(datos[x]\n",
    " .groupby(datos[hue])\n",
    " .value_counts(normalize=True)\n",
    " .rename(y)\n",
    " .reset_index()\n",
    " .pipe((sns.barplot, \"data\"), x=x, y=y, hue=hue))\n",
    "\n",
    "sns.despine(offset=10, trim=True)\n",
    "plt.title(\"Gráfico 33 \\n Gráfico de cajas de las variables TARGET vrs NAME_FAMILY_STATUS \")\n",
    "plt.show()"
   ]
  },
  {
   "cell_type": "markdown",
   "metadata": {},
   "source": [
    "El gráfico nos indica que de las personas que no presentaron dificultades de pago los más frecuentes no se conoce el estado\n",
    "civil, y de los que presentaron difultades de pago los más fecuentes son casados por lo civil"
   ]
  },
  {
   "cell_type": "markdown",
   "metadata": {},
   "source": [
    "### TARGET vrs FLAG_MOBIL"
   ]
  },
  {
   "cell_type": "code",
   "execution_count": 54,
   "metadata": {},
   "outputs": [
    {
     "data": {
      "image/png": "[encoded data removed]",
      "text/plain": [
       "<matplotlib.figure.Figure at 0x7f3d4c7d9eb8>"
      ]
     },
     "metadata": {},
     "output_type": "display_data"
    }
   ],
   "source": [
    "x, y, hue =  \"TARGET\", \"prop\", \"FLAG_MOBIL\"\n",
    "\n",
    "\n",
    "(datos[x]\n",
    " .groupby(datos[hue])\n",
    " .value_counts(normalize=True)\n",
    " .rename(y)\n",
    " .reset_index()\n",
    " .pipe((sns.barplot, \"data\"), x=x, y=y, hue=hue))\n",
    "\n",
    "sns.despine(offset=10, trim=True)\n",
    "plt.title(\"Gráfico 34 \\n Gráfico de cajas de las variables TARGET vrs FLAG_MOBIL \")\n",
    "plt.show()"
   ]
  },
  {
   "cell_type": "markdown",
   "metadata": {},
   "source": [
    "El gráfico nos indica que de los clientes que no presentaron dificultades de pago son más frecuentes los que proporcionaron\n",
    "un teléfono móvil , y de los que presentaron difultades de pago los más fecuentes no proporcionaron un teléfono móvil"
   ]
  },
  {
   "cell_type": "markdown",
   "metadata": {},
   "source": [
    "### TARGET vrs FLAG_EMP_PHONE"
   ]
  },
  {
   "cell_type": "code",
   "execution_count": 55,
   "metadata": {},
   "outputs": [
    {
     "data": {
      "image/png": "[encoded data removed]",
      "text/plain": [
       "<matplotlib.figure.Figure at 0x7f3d8c110400>"
      ]
     },
     "metadata": {},
     "output_type": "display_data"
    }
   ],
   "source": [
    "x, y, hue =  \"TARGET\", \"prop\", \"FLAG_EMP_PHONE\"\n",
    "\n",
    "\n",
    "(datos[x]\n",
    " .groupby(datos[hue])\n",
    " .value_counts(normalize=True)\n",
    " .rename(y)\n",
    " .reset_index()\n",
    " .pipe((sns.barplot, \"data\"), x=x, y=y, hue=hue))\n",
    "\n",
    "sns.despine(offset=10, trim=True)\n",
    "plt.title(\"Gráfico 35 \\n Gráfico de cajas de las variables TARGET vrs FLAG_EMP_PHONE \")\n",
    "plt.show()"
   ]
  },
  {
   "cell_type": "markdown",
   "metadata": {},
   "source": [
    "El gráfico nos indica que de los clientes que no presentaron dificultades de pago son más frecuentes los que proporcionaron \n",
    "el teléfono del trabajo, y de los que presentaron difultades de pago los más fecuentes no proporcionaron el teléfono del \n",
    "trabajo"
   ]
  },
  {
   "cell_type": "markdown",
   "metadata": {},
   "source": [
    "### TARGET vrs REG_REGION_NOT_LIVE_REGION"
   ]
  },
  {
   "cell_type": "code",
   "execution_count": 56,
   "metadata": {},
   "outputs": [
    {
     "data": {
      "image/png": "[encoded data removed]",
      "text/plain": [
       "<matplotlib.figure.Figure at 0x7f3d4a079160>"
      ]
     },
     "metadata": {},
     "output_type": "display_data"
    }
   ],
   "source": [
    "x, y, hue =  \"TARGET\", \"prop\", \"REG_REGION_NOT_LIVE_REGION\"\n",
    "\n",
    "\n",
    "(datos[x]\n",
    " .groupby(datos[hue])\n",
    " .value_counts(normalize=True)\n",
    " .rename(y)\n",
    " .reset_index()\n",
    " .pipe((sns.barplot, \"data\"), x=x, y=y, hue=hue))\n",
    "\n",
    "sns.despine(offset=10, trim=True)\n",
    "plt.title(\"Gráfico 36 \\n Gráfico de cajas de las variables TARGET vrs REG_REGION_NOT_LIVE_REGION \")\n",
    "plt.show()"
   ]
  },
  {
   "cell_type": "markdown",
   "metadata": {},
   "source": [
    "El gráfico nos indica que de los clientes que no presentaron dificultades de pago son más los clientes a los que si \n",
    "les coincide la dirección que proporcionaron, y de los que presentaron difultades de pago son mas los clientes a los\n",
    "que no les coincide la dirreción que proporcionaron."
   ]
  },
  {
   "cell_type": "markdown",
   "metadata": {},
   "source": [
    "### TARGET vrs WEEKDAY_APPR_PROCESS_START"
   ]
  },
  {
   "cell_type": "code",
   "execution_count": 57,
   "metadata": {},
   "outputs": [
    {
     "data": {
      "image/png": "[encoded data removed]",
      "text/plain": [
       "<matplotlib.figure.Figure at 0x7f3d36cd0160>"
      ]
     },
     "metadata": {},
     "output_type": "display_data"
    }
   ],
   "source": [
    "x, y, hue =  \"WEEKDAY_APPR_PROCESS_START\", \"prop\", \"TARGET\"\n",
    "\n",
    "\n",
    "(datos[x]\n",
    " .groupby(datos[hue])\n",
    " .value_counts(normalize=True)\n",
    " .rename(y)\n",
    " .reset_index()\n",
    " .pipe((sns.barplot, \"data\"), x=x, y=y, hue=hue))\n",
    "\n",
    "sns.despine(offset=10, trim=True)\n",
    "plt.title(\"Gráfico 37 \\n Gráfico de cajas de las variables TARGET vrs WEEKDAY_APPR_PROCESS_START \")\n",
    "\n",
    "plt.show()"
   ]
  },
  {
   "cell_type": "markdown",
   "metadata": {},
   "source": [
    "De acuerdo a los días en que se inicio el proceso podemos ver que el más frecuente es martes en el que son más los clientes\n",
    "que presentaron dificulatades de pago, y el menos fecuente es el dia domingo en el que son bastante similares las cantidades\n",
    "de los que presentaron difucultades de pago con los que no"
   ]
  },
  {
   "cell_type": "markdown",
   "metadata": {},
   "source": [
    "## Preparación de los datos\n",
    "\n",
    "Vamos a quitar las variables\n",
    "\n",
    "* AMT_INCOME_TOTAL\n",
    "\n",
    "* WEEKDAY_APPR_PROCESS_START\n",
    "\n",
    "\n",
    "Ya que no muestran tener influencia en la variable TARGET\n",
    "\n"
   ]
  },
  {
   "cell_type": "code",
   "execution_count": 58,
   "metadata": {
    "collapsed": true
   },
   "outputs": [],
   "source": [
    "datos = datos.drop(\"AMT_INCOME_TOTAL\",axis=1)\n",
    "\n",
    "datos = datos.drop(\"WEEKDAY_APPR_PROCESS_START\",axis=1)"
   ]
  },
  {
   "cell_type": "markdown",
   "metadata": {},
   "source": [
    "### Variables dummies"
   ]
  },
  {
   "cell_type": "markdown",
   "metadata": {},
   "source": [
    "Dummitazamos las siguientes variables \n",
    "\n",
    "* NAME_CONTRACT_TYPE: CASH loans, revolving loans\n",
    "* CODE_GENDER: F,M,XNA\n",
    "* FLAG_OWN_CAR: N,Y\n",
    "* FLAG_OWN_REALTY: N,Y\n",
    "* NAME_FAMILY_STATUS: civil marriage, Married, Separated, \n",
    " Single/not married, unknow, widow\n"
   ]
  },
  {
   "cell_type": "code",
   "execution_count": 59,
   "metadata": {
    "collapsed": true
   },
   "outputs": [],
   "source": [
    "a = pd.get_dummies(datos['NAME_CONTRACT_TYPE'],prefix='NAME_CONTRACT_TYPE')\n",
    "datos[a.columns]=a\n",
    "datos=datos.drop(\"NAME_CONTRACT_TYPE\",axis=1)"
   ]
  },
  {
   "cell_type": "code",
   "execution_count": 60,
   "metadata": {
    "collapsed": true
   },
   "outputs": [],
   "source": [
    "a = pd.get_dummies(datos['CODE_GENDER'],prefix='CODE_GENDER')\n",
    "datos[a.columns]=a\n",
    "datos=datos.drop(\"CODE_GENDER\",axis=1)"
   ]
  },
  {
   "cell_type": "code",
   "execution_count": 61,
   "metadata": {
    "collapsed": true
   },
   "outputs": [],
   "source": [
    "a = pd.get_dummies(datos['FLAG_OWN_CAR'],prefix='FLAG_OWN_CAR')\n",
    "datos[a.columns]=a\n",
    "datos=datos.drop(\"FLAG_OWN_CAR\",axis=1)"
   ]
  },
  {
   "cell_type": "code",
   "execution_count": 62,
   "metadata": {
    "collapsed": true
   },
   "outputs": [],
   "source": [
    "a = pd.get_dummies(datos['FLAG_OWN_REALTY'],prefix='FLAG_OWN_REALTY')\n",
    "datos[a.columns]=a\n",
    "datos=datos.drop(\"FLAG_OWN_REALTY\",axis=1)"
   ]
  },
  {
   "cell_type": "code",
   "execution_count": 63,
   "metadata": {
    "collapsed": true
   },
   "outputs": [],
   "source": [
    "a = pd.get_dummies(datos['NAME_FAMILY_STATUS'],prefix='NAME_FAMILY_STATUS')\n",
    "datos[a.columns]=a\n",
    "datos=datos.drop(\"NAME_FAMILY_STATUS\",axis=1)"
   ]
  },
  {
   "cell_type": "code",
   "execution_count": 64,
   "metadata": {},
   "outputs": [
    {
     "data": {
      "text/html": [
       "<div>\n",
       "<style>\n",
       "    .dataframe thead tr:only-child th {\n",
       "        text-align: right;\n",
       "    }\n",
       "\n",
       "    .dataframe thead th {\n",
       "        text-align: left;\n",
       "    }\n",
       "\n",
       "    .dataframe tbody tr th {\n",
       "        vertical-align: top;\n",
       "    }\n",
       "</style>\n",
       "<table border=\"1\" class=\"dataframe\">\n",
       "  <thead>\n",
       "    <tr style=\"text-align: right;\">\n",
       "      <th></th>\n",
       "      <th>TARGET</th>\n",
       "      <th>CNT_CHILDREN</th>\n",
       "      <th>AMT_CREDIT</th>\n",
       "      <th>DAYS_EMPLOYED</th>\n",
       "      <th>DAYS_REGISTRATION</th>\n",
       "      <th>OWN_CAR_AGE</th>\n",
       "      <th>FLAG_MOBIL</th>\n",
       "      <th>FLAG_EMP_PHONE</th>\n",
       "      <th>CNT_FAM_MEMBERS</th>\n",
       "      <th>REG_REGION_NOT_LIVE_REGION</th>\n",
       "      <th>...</th>\n",
       "      <th>FLAG_OWN_CAR_N</th>\n",
       "      <th>FLAG_OWN_CAR_Y</th>\n",
       "      <th>FLAG_OWN_REALTY_N</th>\n",
       "      <th>FLAG_OWN_REALTY_Y</th>\n",
       "      <th>NAME_FAMILY_STATUS_Civil marriage</th>\n",
       "      <th>NAME_FAMILY_STATUS_Married</th>\n",
       "      <th>NAME_FAMILY_STATUS_Separated</th>\n",
       "      <th>NAME_FAMILY_STATUS_Single / not married</th>\n",
       "      <th>NAME_FAMILY_STATUS_Unknown</th>\n",
       "      <th>NAME_FAMILY_STATUS_Widow</th>\n",
       "    </tr>\n",
       "  </thead>\n",
       "  <tbody>\n",
       "    <tr>\n",
       "      <th>0</th>\n",
       "      <td>1</td>\n",
       "      <td>0</td>\n",
       "      <td>406597.5</td>\n",
       "      <td>-637</td>\n",
       "      <td>-3648.0</td>\n",
       "      <td>NaN</td>\n",
       "      <td>1</td>\n",
       "      <td>1</td>\n",
       "      <td>1.0</td>\n",
       "      <td>0</td>\n",
       "      <td>...</td>\n",
       "      <td>1</td>\n",
       "      <td>0</td>\n",
       "      <td>0</td>\n",
       "      <td>1</td>\n",
       "      <td>0</td>\n",
       "      <td>0</td>\n",
       "      <td>0</td>\n",
       "      <td>1</td>\n",
       "      <td>0</td>\n",
       "      <td>0</td>\n",
       "    </tr>\n",
       "    <tr>\n",
       "      <th>1</th>\n",
       "      <td>0</td>\n",
       "      <td>0</td>\n",
       "      <td>1293502.5</td>\n",
       "      <td>-1188</td>\n",
       "      <td>-1186.0</td>\n",
       "      <td>NaN</td>\n",
       "      <td>1</td>\n",
       "      <td>1</td>\n",
       "      <td>2.0</td>\n",
       "      <td>0</td>\n",
       "      <td>...</td>\n",
       "      <td>1</td>\n",
       "      <td>0</td>\n",
       "      <td>1</td>\n",
       "      <td>0</td>\n",
       "      <td>0</td>\n",
       "      <td>1</td>\n",
       "      <td>0</td>\n",
       "      <td>0</td>\n",
       "      <td>0</td>\n",
       "      <td>0</td>\n",
       "    </tr>\n",
       "    <tr>\n",
       "      <th>2</th>\n",
       "      <td>0</td>\n",
       "      <td>0</td>\n",
       "      <td>135000.0</td>\n",
       "      <td>-225</td>\n",
       "      <td>-4260.0</td>\n",
       "      <td>26.0</td>\n",
       "      <td>1</td>\n",
       "      <td>1</td>\n",
       "      <td>1.0</td>\n",
       "      <td>0</td>\n",
       "      <td>...</td>\n",
       "      <td>0</td>\n",
       "      <td>1</td>\n",
       "      <td>0</td>\n",
       "      <td>1</td>\n",
       "      <td>0</td>\n",
       "      <td>0</td>\n",
       "      <td>0</td>\n",
       "      <td>1</td>\n",
       "      <td>0</td>\n",
       "      <td>0</td>\n",
       "    </tr>\n",
       "    <tr>\n",
       "      <th>3</th>\n",
       "      <td>0</td>\n",
       "      <td>0</td>\n",
       "      <td>312682.5</td>\n",
       "      <td>-3039</td>\n",
       "      <td>-9833.0</td>\n",
       "      <td>NaN</td>\n",
       "      <td>1</td>\n",
       "      <td>1</td>\n",
       "      <td>2.0</td>\n",
       "      <td>0</td>\n",
       "      <td>...</td>\n",
       "      <td>1</td>\n",
       "      <td>0</td>\n",
       "      <td>0</td>\n",
       "      <td>1</td>\n",
       "      <td>1</td>\n",
       "      <td>0</td>\n",
       "      <td>0</td>\n",
       "      <td>0</td>\n",
       "      <td>0</td>\n",
       "      <td>0</td>\n",
       "    </tr>\n",
       "    <tr>\n",
       "      <th>4</th>\n",
       "      <td>0</td>\n",
       "      <td>0</td>\n",
       "      <td>513000.0</td>\n",
       "      <td>-3038</td>\n",
       "      <td>-4311.0</td>\n",
       "      <td>NaN</td>\n",
       "      <td>1</td>\n",
       "      <td>1</td>\n",
       "      <td>1.0</td>\n",
       "      <td>0</td>\n",
       "      <td>...</td>\n",
       "      <td>1</td>\n",
       "      <td>0</td>\n",
       "      <td>0</td>\n",
       "      <td>1</td>\n",
       "      <td>0</td>\n",
       "      <td>0</td>\n",
       "      <td>0</td>\n",
       "      <td>1</td>\n",
       "      <td>0</td>\n",
       "      <td>0</td>\n",
       "    </tr>\n",
       "  </tbody>\n",
       "</table>\n",
       "<p>5 rows × 26 columns</p>\n",
       "</div>"
      ],
      "text/plain": [
       "   TARGET  CNT_CHILDREN  AMT_CREDIT  DAYS_EMPLOYED  DAYS_REGISTRATION  \\\n",
       "0       1             0    406597.5           -637            -3648.0   \n",
       "1       0             0   1293502.5          -1188            -1186.0   \n",
       "2       0             0    135000.0           -225            -4260.0   \n",
       "3       0             0    312682.5          -3039            -9833.0   \n",
       "4       0             0    513000.0          -3038            -4311.0   \n",
       "\n",
       "   OWN_CAR_AGE  FLAG_MOBIL  FLAG_EMP_PHONE  CNT_FAM_MEMBERS  \\\n",
       "0          NaN           1               1              1.0   \n",
       "1          NaN           1               1              2.0   \n",
       "2         26.0           1               1              1.0   \n",
       "3          NaN           1               1              2.0   \n",
       "4          NaN           1               1              1.0   \n",
       "\n",
       "   REG_REGION_NOT_LIVE_REGION            ...             FLAG_OWN_CAR_N  \\\n",
       "0                           0            ...                          1   \n",
       "1                           0            ...                          1   \n",
       "2                           0            ...                          0   \n",
       "3                           0            ...                          1   \n",
       "4                           0            ...                          1   \n",
       "\n",
       "   FLAG_OWN_CAR_Y  FLAG_OWN_REALTY_N  FLAG_OWN_REALTY_Y  \\\n",
       "0               0                  0                  1   \n",
       "1               0                  1                  0   \n",
       "2               1                  0                  1   \n",
       "3               0                  0                  1   \n",
       "4               0                  0                  1   \n",
       "\n",
       "   NAME_FAMILY_STATUS_Civil marriage  NAME_FAMILY_STATUS_Married  \\\n",
       "0                                  0                           0   \n",
       "1                                  0                           1   \n",
       "2                                  0                           0   \n",
       "3                                  1                           0   \n",
       "4                                  0                           0   \n",
       "\n",
       "   NAME_FAMILY_STATUS_Separated  NAME_FAMILY_STATUS_Single / not married  \\\n",
       "0                             0                                        1   \n",
       "1                             0                                        0   \n",
       "2                             0                                        1   \n",
       "3                             0                                        0   \n",
       "4                             0                                        1   \n",
       "\n",
       "   NAME_FAMILY_STATUS_Unknown  NAME_FAMILY_STATUS_Widow  \n",
       "0                           0                         0  \n",
       "1                           0                         0  \n",
       "2                           0                         0  \n",
       "3                           0                         0  \n",
       "4                           0                         0  \n",
       "\n",
       "[5 rows x 26 columns]"
      ]
     },
     "execution_count": 64,
     "metadata": {},
     "output_type": "execute_result"
    }
   ],
   "source": [
    "datos.head()"
   ]
  },
  {
   "cell_type": "markdown",
   "metadata": {},
   "source": [
    "## Reemplazamos los valores faltantes con la media de la columna (imputación)"
   ]
  },
  {
   "cell_type": "code",
   "execution_count": 65,
   "metadata": {},
   "outputs": [
    {
     "data": {
      "text/html": [
       "<div>\n",
       "<style>\n",
       "    .dataframe thead tr:only-child th {\n",
       "        text-align: right;\n",
       "    }\n",
       "\n",
       "    .dataframe thead th {\n",
       "        text-align: left;\n",
       "    }\n",
       "\n",
       "    .dataframe tbody tr th {\n",
       "        vertical-align: top;\n",
       "    }\n",
       "</style>\n",
       "<table border=\"1\" class=\"dataframe\">\n",
       "  <thead>\n",
       "    <tr style=\"text-align: right;\">\n",
       "      <th></th>\n",
       "      <th>TARGET</th>\n",
       "      <th>CNT_CHILDREN</th>\n",
       "      <th>AMT_CREDIT</th>\n",
       "      <th>DAYS_EMPLOYED</th>\n",
       "      <th>DAYS_REGISTRATION</th>\n",
       "      <th>OWN_CAR_AGE</th>\n",
       "      <th>FLAG_MOBIL</th>\n",
       "      <th>FLAG_EMP_PHONE</th>\n",
       "      <th>CNT_FAM_MEMBERS</th>\n",
       "      <th>REG_REGION_NOT_LIVE_REGION</th>\n",
       "      <th>...</th>\n",
       "      <th>FLAG_OWN_CAR_N</th>\n",
       "      <th>FLAG_OWN_CAR_Y</th>\n",
       "      <th>FLAG_OWN_REALTY_N</th>\n",
       "      <th>FLAG_OWN_REALTY_Y</th>\n",
       "      <th>NAME_FAMILY_STATUS_Civil marriage</th>\n",
       "      <th>NAME_FAMILY_STATUS_Married</th>\n",
       "      <th>NAME_FAMILY_STATUS_Separated</th>\n",
       "      <th>NAME_FAMILY_STATUS_Single / not married</th>\n",
       "      <th>NAME_FAMILY_STATUS_Unknown</th>\n",
       "      <th>NAME_FAMILY_STATUS_Widow</th>\n",
       "    </tr>\n",
       "  </thead>\n",
       "  <tbody>\n",
       "    <tr>\n",
       "      <th>0</th>\n",
       "      <td>1</td>\n",
       "      <td>0</td>\n",
       "      <td>406597.5</td>\n",
       "      <td>-637</td>\n",
       "      <td>-3648.0</td>\n",
       "      <td>12.061139</td>\n",
       "      <td>1</td>\n",
       "      <td>1</td>\n",
       "      <td>1.0</td>\n",
       "      <td>0</td>\n",
       "      <td>...</td>\n",
       "      <td>1</td>\n",
       "      <td>0</td>\n",
       "      <td>0</td>\n",
       "      <td>1</td>\n",
       "      <td>0</td>\n",
       "      <td>0</td>\n",
       "      <td>0</td>\n",
       "      <td>1</td>\n",
       "      <td>0</td>\n",
       "      <td>0</td>\n",
       "    </tr>\n",
       "    <tr>\n",
       "      <th>1</th>\n",
       "      <td>0</td>\n",
       "      <td>0</td>\n",
       "      <td>1293502.5</td>\n",
       "      <td>-1188</td>\n",
       "      <td>-1186.0</td>\n",
       "      <td>12.061139</td>\n",
       "      <td>1</td>\n",
       "      <td>1</td>\n",
       "      <td>2.0</td>\n",
       "      <td>0</td>\n",
       "      <td>...</td>\n",
       "      <td>1</td>\n",
       "      <td>0</td>\n",
       "      <td>1</td>\n",
       "      <td>0</td>\n",
       "      <td>0</td>\n",
       "      <td>1</td>\n",
       "      <td>0</td>\n",
       "      <td>0</td>\n",
       "      <td>0</td>\n",
       "      <td>0</td>\n",
       "    </tr>\n",
       "    <tr>\n",
       "      <th>2</th>\n",
       "      <td>0</td>\n",
       "      <td>0</td>\n",
       "      <td>135000.0</td>\n",
       "      <td>-225</td>\n",
       "      <td>-4260.0</td>\n",
       "      <td>26.000000</td>\n",
       "      <td>1</td>\n",
       "      <td>1</td>\n",
       "      <td>1.0</td>\n",
       "      <td>0</td>\n",
       "      <td>...</td>\n",
       "      <td>0</td>\n",
       "      <td>1</td>\n",
       "      <td>0</td>\n",
       "      <td>1</td>\n",
       "      <td>0</td>\n",
       "      <td>0</td>\n",
       "      <td>0</td>\n",
       "      <td>1</td>\n",
       "      <td>0</td>\n",
       "      <td>0</td>\n",
       "    </tr>\n",
       "    <tr>\n",
       "      <th>3</th>\n",
       "      <td>0</td>\n",
       "      <td>0</td>\n",
       "      <td>312682.5</td>\n",
       "      <td>-3039</td>\n",
       "      <td>-9833.0</td>\n",
       "      <td>12.061139</td>\n",
       "      <td>1</td>\n",
       "      <td>1</td>\n",
       "      <td>2.0</td>\n",
       "      <td>0</td>\n",
       "      <td>...</td>\n",
       "      <td>1</td>\n",
       "      <td>0</td>\n",
       "      <td>0</td>\n",
       "      <td>1</td>\n",
       "      <td>1</td>\n",
       "      <td>0</td>\n",
       "      <td>0</td>\n",
       "      <td>0</td>\n",
       "      <td>0</td>\n",
       "      <td>0</td>\n",
       "    </tr>\n",
       "    <tr>\n",
       "      <th>4</th>\n",
       "      <td>0</td>\n",
       "      <td>0</td>\n",
       "      <td>513000.0</td>\n",
       "      <td>-3038</td>\n",
       "      <td>-4311.0</td>\n",
       "      <td>12.061139</td>\n",
       "      <td>1</td>\n",
       "      <td>1</td>\n",
       "      <td>1.0</td>\n",
       "      <td>0</td>\n",
       "      <td>...</td>\n",
       "      <td>1</td>\n",
       "      <td>0</td>\n",
       "      <td>0</td>\n",
       "      <td>1</td>\n",
       "      <td>0</td>\n",
       "      <td>0</td>\n",
       "      <td>0</td>\n",
       "      <td>1</td>\n",
       "      <td>0</td>\n",
       "      <td>0</td>\n",
       "    </tr>\n",
       "    <tr>\n",
       "      <th>5</th>\n",
       "      <td>0</td>\n",
       "      <td>0</td>\n",
       "      <td>490495.5</td>\n",
       "      <td>-1588</td>\n",
       "      <td>-4970.0</td>\n",
       "      <td>12.061139</td>\n",
       "      <td>1</td>\n",
       "      <td>1</td>\n",
       "      <td>2.0</td>\n",
       "      <td>0</td>\n",
       "      <td>...</td>\n",
       "      <td>1</td>\n",
       "      <td>0</td>\n",
       "      <td>0</td>\n",
       "      <td>1</td>\n",
       "      <td>0</td>\n",
       "      <td>1</td>\n",
       "      <td>0</td>\n",
       "      <td>0</td>\n",
       "      <td>0</td>\n",
       "      <td>0</td>\n",
       "    </tr>\n",
       "    <tr>\n",
       "      <th>6</th>\n",
       "      <td>0</td>\n",
       "      <td>1</td>\n",
       "      <td>1560726.0</td>\n",
       "      <td>-3130</td>\n",
       "      <td>-1213.0</td>\n",
       "      <td>17.000000</td>\n",
       "      <td>1</td>\n",
       "      <td>1</td>\n",
       "      <td>3.0</td>\n",
       "      <td>0</td>\n",
       "      <td>...</td>\n",
       "      <td>0</td>\n",
       "      <td>1</td>\n",
       "      <td>0</td>\n",
       "      <td>1</td>\n",
       "      <td>0</td>\n",
       "      <td>1</td>\n",
       "      <td>0</td>\n",
       "      <td>0</td>\n",
       "      <td>0</td>\n",
       "      <td>0</td>\n",
       "    </tr>\n",
       "    <tr>\n",
       "      <th>7</th>\n",
       "      <td>0</td>\n",
       "      <td>0</td>\n",
       "      <td>1530000.0</td>\n",
       "      <td>-449</td>\n",
       "      <td>-4597.0</td>\n",
       "      <td>8.000000</td>\n",
       "      <td>1</td>\n",
       "      <td>1</td>\n",
       "      <td>2.0</td>\n",
       "      <td>0</td>\n",
       "      <td>...</td>\n",
       "      <td>0</td>\n",
       "      <td>1</td>\n",
       "      <td>0</td>\n",
       "      <td>1</td>\n",
       "      <td>0</td>\n",
       "      <td>1</td>\n",
       "      <td>0</td>\n",
       "      <td>0</td>\n",
       "      <td>0</td>\n",
       "      <td>0</td>\n",
       "    </tr>\n",
       "    <tr>\n",
       "      <th>8</th>\n",
       "      <td>0</td>\n",
       "      <td>0</td>\n",
       "      <td>1019610.0</td>\n",
       "      <td>365243</td>\n",
       "      <td>-7427.0</td>\n",
       "      <td>12.061139</td>\n",
       "      <td>1</td>\n",
       "      <td>0</td>\n",
       "      <td>2.0</td>\n",
       "      <td>0</td>\n",
       "      <td>...</td>\n",
       "      <td>1</td>\n",
       "      <td>0</td>\n",
       "      <td>0</td>\n",
       "      <td>1</td>\n",
       "      <td>0</td>\n",
       "      <td>1</td>\n",
       "      <td>0</td>\n",
       "      <td>0</td>\n",
       "      <td>0</td>\n",
       "      <td>0</td>\n",
       "    </tr>\n",
       "    <tr>\n",
       "      <th>9</th>\n",
       "      <td>0</td>\n",
       "      <td>0</td>\n",
       "      <td>405000.0</td>\n",
       "      <td>-2019</td>\n",
       "      <td>-14437.0</td>\n",
       "      <td>12.061139</td>\n",
       "      <td>1</td>\n",
       "      <td>1</td>\n",
       "      <td>1.0</td>\n",
       "      <td>0</td>\n",
       "      <td>...</td>\n",
       "      <td>1</td>\n",
       "      <td>0</td>\n",
       "      <td>0</td>\n",
       "      <td>1</td>\n",
       "      <td>0</td>\n",
       "      <td>0</td>\n",
       "      <td>0</td>\n",
       "      <td>1</td>\n",
       "      <td>0</td>\n",
       "      <td>0</td>\n",
       "    </tr>\n",
       "    <tr>\n",
       "      <th>10</th>\n",
       "      <td>0</td>\n",
       "      <td>1</td>\n",
       "      <td>652500.0</td>\n",
       "      <td>-679</td>\n",
       "      <td>-4427.0</td>\n",
       "      <td>12.061139</td>\n",
       "      <td>1</td>\n",
       "      <td>1</td>\n",
       "      <td>3.0</td>\n",
       "      <td>0</td>\n",
       "      <td>...</td>\n",
       "      <td>1</td>\n",
       "      <td>0</td>\n",
       "      <td>0</td>\n",
       "      <td>1</td>\n",
       "      <td>0</td>\n",
       "      <td>1</td>\n",
       "      <td>0</td>\n",
       "      <td>0</td>\n",
       "      <td>0</td>\n",
       "      <td>0</td>\n",
       "    </tr>\n",
       "    <tr>\n",
       "      <th>11</th>\n",
       "      <td>0</td>\n",
       "      <td>0</td>\n",
       "      <td>148365.0</td>\n",
       "      <td>365243</td>\n",
       "      <td>-5246.0</td>\n",
       "      <td>12.061139</td>\n",
       "      <td>1</td>\n",
       "      <td>0</td>\n",
       "      <td>2.0</td>\n",
       "      <td>0</td>\n",
       "      <td>...</td>\n",
       "      <td>1</td>\n",
       "      <td>0</td>\n",
       "      <td>0</td>\n",
       "      <td>1</td>\n",
       "      <td>0</td>\n",
       "      <td>1</td>\n",
       "      <td>0</td>\n",
       "      <td>0</td>\n",
       "      <td>0</td>\n",
       "      <td>0</td>\n",
       "    </tr>\n",
       "    <tr>\n",
       "      <th>12</th>\n",
       "      <td>0</td>\n",
       "      <td>0</td>\n",
       "      <td>80865.0</td>\n",
       "      <td>-2717</td>\n",
       "      <td>-311.0</td>\n",
       "      <td>12.061139</td>\n",
       "      <td>1</td>\n",
       "      <td>1</td>\n",
       "      <td>2.0</td>\n",
       "      <td>0</td>\n",
       "      <td>...</td>\n",
       "      <td>1</td>\n",
       "      <td>0</td>\n",
       "      <td>0</td>\n",
       "      <td>1</td>\n",
       "      <td>0</td>\n",
       "      <td>1</td>\n",
       "      <td>0</td>\n",
       "      <td>0</td>\n",
       "      <td>0</td>\n",
       "      <td>0</td>\n",
       "    </tr>\n",
       "    <tr>\n",
       "      <th>13</th>\n",
       "      <td>0</td>\n",
       "      <td>1</td>\n",
       "      <td>918468.0</td>\n",
       "      <td>-3028</td>\n",
       "      <td>-643.0</td>\n",
       "      <td>23.000000</td>\n",
       "      <td>1</td>\n",
       "      <td>1</td>\n",
       "      <td>3.0</td>\n",
       "      <td>0</td>\n",
       "      <td>...</td>\n",
       "      <td>0</td>\n",
       "      <td>1</td>\n",
       "      <td>1</td>\n",
       "      <td>0</td>\n",
       "      <td>0</td>\n",
       "      <td>1</td>\n",
       "      <td>0</td>\n",
       "      <td>0</td>\n",
       "      <td>0</td>\n",
       "      <td>0</td>\n",
       "    </tr>\n",
       "    <tr>\n",
       "      <th>14</th>\n",
       "      <td>0</td>\n",
       "      <td>0</td>\n",
       "      <td>773680.5</td>\n",
       "      <td>-203</td>\n",
       "      <td>-615.0</td>\n",
       "      <td>12.061139</td>\n",
       "      <td>1</td>\n",
       "      <td>1</td>\n",
       "      <td>2.0</td>\n",
       "      <td>0</td>\n",
       "      <td>...</td>\n",
       "      <td>1</td>\n",
       "      <td>0</td>\n",
       "      <td>0</td>\n",
       "      <td>1</td>\n",
       "      <td>0</td>\n",
       "      <td>1</td>\n",
       "      <td>0</td>\n",
       "      <td>0</td>\n",
       "      <td>0</td>\n",
       "      <td>0</td>\n",
       "    </tr>\n",
       "    <tr>\n",
       "      <th>15</th>\n",
       "      <td>0</td>\n",
       "      <td>0</td>\n",
       "      <td>299772.0</td>\n",
       "      <td>-1157</td>\n",
       "      <td>-3494.0</td>\n",
       "      <td>17.000000</td>\n",
       "      <td>1</td>\n",
       "      <td>1</td>\n",
       "      <td>1.0</td>\n",
       "      <td>0</td>\n",
       "      <td>...</td>\n",
       "      <td>0</td>\n",
       "      <td>1</td>\n",
       "      <td>0</td>\n",
       "      <td>1</td>\n",
       "      <td>0</td>\n",
       "      <td>0</td>\n",
       "      <td>0</td>\n",
       "      <td>1</td>\n",
       "      <td>0</td>\n",
       "      <td>0</td>\n",
       "    </tr>\n",
       "    <tr>\n",
       "      <th>16</th>\n",
       "      <td>0</td>\n",
       "      <td>0</td>\n",
       "      <td>509602.5</td>\n",
       "      <td>-1317</td>\n",
       "      <td>-6392.0</td>\n",
       "      <td>12.061139</td>\n",
       "      <td>1</td>\n",
       "      <td>1</td>\n",
       "      <td>2.0</td>\n",
       "      <td>0</td>\n",
       "      <td>...</td>\n",
       "      <td>1</td>\n",
       "      <td>0</td>\n",
       "      <td>1</td>\n",
       "      <td>0</td>\n",
       "      <td>0</td>\n",
       "      <td>1</td>\n",
       "      <td>0</td>\n",
       "      <td>0</td>\n",
       "      <td>0</td>\n",
       "      <td>0</td>\n",
       "    </tr>\n",
       "    <tr>\n",
       "      <th>17</th>\n",
       "      <td>0</td>\n",
       "      <td>1</td>\n",
       "      <td>270000.0</td>\n",
       "      <td>-191</td>\n",
       "      <td>-4143.0</td>\n",
       "      <td>12.061139</td>\n",
       "      <td>1</td>\n",
       "      <td>1</td>\n",
       "      <td>3.0</td>\n",
       "      <td>0</td>\n",
       "      <td>...</td>\n",
       "      <td>1</td>\n",
       "      <td>0</td>\n",
       "      <td>0</td>\n",
       "      <td>1</td>\n",
       "      <td>0</td>\n",
       "      <td>1</td>\n",
       "      <td>0</td>\n",
       "      <td>0</td>\n",
       "      <td>0</td>\n",
       "      <td>0</td>\n",
       "    </tr>\n",
       "    <tr>\n",
       "      <th>18</th>\n",
       "      <td>0</td>\n",
       "      <td>0</td>\n",
       "      <td>157500.0</td>\n",
       "      <td>-7804</td>\n",
       "      <td>-8751.0</td>\n",
       "      <td>12.061139</td>\n",
       "      <td>1</td>\n",
       "      <td>1</td>\n",
       "      <td>1.0</td>\n",
       "      <td>0</td>\n",
       "      <td>...</td>\n",
       "      <td>1</td>\n",
       "      <td>0</td>\n",
       "      <td>0</td>\n",
       "      <td>1</td>\n",
       "      <td>0</td>\n",
       "      <td>0</td>\n",
       "      <td>0</td>\n",
       "      <td>0</td>\n",
       "      <td>0</td>\n",
       "      <td>1</td>\n",
       "    </tr>\n",
       "    <tr>\n",
       "      <th>19</th>\n",
       "      <td>0</td>\n",
       "      <td>1</td>\n",
       "      <td>544491.0</td>\n",
       "      <td>-2038</td>\n",
       "      <td>-1021.0</td>\n",
       "      <td>12.061139</td>\n",
       "      <td>1</td>\n",
       "      <td>1</td>\n",
       "      <td>2.0</td>\n",
       "      <td>0</td>\n",
       "      <td>...</td>\n",
       "      <td>1</td>\n",
       "      <td>0</td>\n",
       "      <td>0</td>\n",
       "      <td>1</td>\n",
       "      <td>0</td>\n",
       "      <td>0</td>\n",
       "      <td>0</td>\n",
       "      <td>1</td>\n",
       "      <td>0</td>\n",
       "      <td>0</td>\n",
       "    </tr>\n",
       "    <tr>\n",
       "      <th>20</th>\n",
       "      <td>0</td>\n",
       "      <td>0</td>\n",
       "      <td>427500.0</td>\n",
       "      <td>-4286</td>\n",
       "      <td>-298.0</td>\n",
       "      <td>7.000000</td>\n",
       "      <td>1</td>\n",
       "      <td>1</td>\n",
       "      <td>2.0</td>\n",
       "      <td>0</td>\n",
       "      <td>...</td>\n",
       "      <td>0</td>\n",
       "      <td>1</td>\n",
       "      <td>0</td>\n",
       "      <td>1</td>\n",
       "      <td>0</td>\n",
       "      <td>1</td>\n",
       "      <td>0</td>\n",
       "      <td>0</td>\n",
       "      <td>0</td>\n",
       "      <td>0</td>\n",
       "    </tr>\n",
       "    <tr>\n",
       "      <th>21</th>\n",
       "      <td>0</td>\n",
       "      <td>1</td>\n",
       "      <td>1132573.5</td>\n",
       "      <td>-1652</td>\n",
       "      <td>-2299.0</td>\n",
       "      <td>14.000000</td>\n",
       "      <td>1</td>\n",
       "      <td>1</td>\n",
       "      <td>3.0</td>\n",
       "      <td>0</td>\n",
       "      <td>...</td>\n",
       "      <td>0</td>\n",
       "      <td>1</td>\n",
       "      <td>0</td>\n",
       "      <td>1</td>\n",
       "      <td>0</td>\n",
       "      <td>1</td>\n",
       "      <td>0</td>\n",
       "      <td>0</td>\n",
       "      <td>0</td>\n",
       "      <td>0</td>\n",
       "    </tr>\n",
       "    <tr>\n",
       "      <th>22</th>\n",
       "      <td>0</td>\n",
       "      <td>1</td>\n",
       "      <td>497520.0</td>\n",
       "      <td>-4306</td>\n",
       "      <td>-114.0</td>\n",
       "      <td>12.061139</td>\n",
       "      <td>1</td>\n",
       "      <td>1</td>\n",
       "      <td>3.0</td>\n",
       "      <td>0</td>\n",
       "      <td>...</td>\n",
       "      <td>1</td>\n",
       "      <td>0</td>\n",
       "      <td>1</td>\n",
       "      <td>0</td>\n",
       "      <td>0</td>\n",
       "      <td>1</td>\n",
       "      <td>0</td>\n",
       "      <td>0</td>\n",
       "      <td>0</td>\n",
       "      <td>0</td>\n",
       "    </tr>\n",
       "    <tr>\n",
       "      <th>23</th>\n",
       "      <td>0</td>\n",
       "      <td>0</td>\n",
       "      <td>239850.0</td>\n",
       "      <td>365243</td>\n",
       "      <td>-9012.0</td>\n",
       "      <td>12.061139</td>\n",
       "      <td>1</td>\n",
       "      <td>0</td>\n",
       "      <td>2.0</td>\n",
       "      <td>0</td>\n",
       "      <td>...</td>\n",
       "      <td>1</td>\n",
       "      <td>0</td>\n",
       "      <td>0</td>\n",
       "      <td>1</td>\n",
       "      <td>0</td>\n",
       "      <td>1</td>\n",
       "      <td>0</td>\n",
       "      <td>0</td>\n",
       "      <td>0</td>\n",
       "      <td>0</td>\n",
       "    </tr>\n",
       "    <tr>\n",
       "      <th>24</th>\n",
       "      <td>0</td>\n",
       "      <td>2</td>\n",
       "      <td>247500.0</td>\n",
       "      <td>-746</td>\n",
       "      <td>-108.0</td>\n",
       "      <td>7.000000</td>\n",
       "      <td>1</td>\n",
       "      <td>1</td>\n",
       "      <td>4.0</td>\n",
       "      <td>0</td>\n",
       "      <td>...</td>\n",
       "      <td>0</td>\n",
       "      <td>1</td>\n",
       "      <td>1</td>\n",
       "      <td>0</td>\n",
       "      <td>0</td>\n",
       "      <td>1</td>\n",
       "      <td>0</td>\n",
       "      <td>0</td>\n",
       "      <td>0</td>\n",
       "      <td>0</td>\n",
       "    </tr>\n",
       "    <tr>\n",
       "      <th>25</th>\n",
       "      <td>0</td>\n",
       "      <td>0</td>\n",
       "      <td>225000.0</td>\n",
       "      <td>-3494</td>\n",
       "      <td>-2419.0</td>\n",
       "      <td>12.061139</td>\n",
       "      <td>1</td>\n",
       "      <td>1</td>\n",
       "      <td>2.0</td>\n",
       "      <td>0</td>\n",
       "      <td>...</td>\n",
       "      <td>1</td>\n",
       "      <td>0</td>\n",
       "      <td>0</td>\n",
       "      <td>1</td>\n",
       "      <td>0</td>\n",
       "      <td>1</td>\n",
       "      <td>0</td>\n",
       "      <td>0</td>\n",
       "      <td>0</td>\n",
       "      <td>0</td>\n",
       "    </tr>\n",
       "    <tr>\n",
       "      <th>26</th>\n",
       "      <td>1</td>\n",
       "      <td>0</td>\n",
       "      <td>979992.0</td>\n",
       "      <td>-2628</td>\n",
       "      <td>-6573.0</td>\n",
       "      <td>12.061139</td>\n",
       "      <td>1</td>\n",
       "      <td>1</td>\n",
       "      <td>1.0</td>\n",
       "      <td>0</td>\n",
       "      <td>...</td>\n",
       "      <td>1</td>\n",
       "      <td>0</td>\n",
       "      <td>0</td>\n",
       "      <td>1</td>\n",
       "      <td>0</td>\n",
       "      <td>0</td>\n",
       "      <td>0</td>\n",
       "      <td>0</td>\n",
       "      <td>0</td>\n",
       "      <td>1</td>\n",
       "    </tr>\n",
       "    <tr>\n",
       "      <th>27</th>\n",
       "      <td>0</td>\n",
       "      <td>1</td>\n",
       "      <td>327024.0</td>\n",
       "      <td>-1234</td>\n",
       "      <td>-5782.0</td>\n",
       "      <td>12.061139</td>\n",
       "      <td>1</td>\n",
       "      <td>1</td>\n",
       "      <td>3.0</td>\n",
       "      <td>0</td>\n",
       "      <td>...</td>\n",
       "      <td>1</td>\n",
       "      <td>0</td>\n",
       "      <td>0</td>\n",
       "      <td>1</td>\n",
       "      <td>0</td>\n",
       "      <td>1</td>\n",
       "      <td>0</td>\n",
       "      <td>0</td>\n",
       "      <td>0</td>\n",
       "      <td>0</td>\n",
       "    </tr>\n",
       "    <tr>\n",
       "      <th>28</th>\n",
       "      <td>0</td>\n",
       "      <td>0</td>\n",
       "      <td>790830.0</td>\n",
       "      <td>-1796</td>\n",
       "      <td>-4668.0</td>\n",
       "      <td>1.000000</td>\n",
       "      <td>1</td>\n",
       "      <td>1</td>\n",
       "      <td>1.0</td>\n",
       "      <td>0</td>\n",
       "      <td>...</td>\n",
       "      <td>0</td>\n",
       "      <td>1</td>\n",
       "      <td>0</td>\n",
       "      <td>1</td>\n",
       "      <td>0</td>\n",
       "      <td>0</td>\n",
       "      <td>0</td>\n",
       "      <td>1</td>\n",
       "      <td>0</td>\n",
       "      <td>0</td>\n",
       "    </tr>\n",
       "    <tr>\n",
       "      <th>29</th>\n",
       "      <td>0</td>\n",
       "      <td>0</td>\n",
       "      <td>180000.0</td>\n",
       "      <td>-1010</td>\n",
       "      <td>-4799.0</td>\n",
       "      <td>12.061139</td>\n",
       "      <td>1</td>\n",
       "      <td>1</td>\n",
       "      <td>1.0</td>\n",
       "      <td>0</td>\n",
       "      <td>...</td>\n",
       "      <td>1</td>\n",
       "      <td>0</td>\n",
       "      <td>0</td>\n",
       "      <td>1</td>\n",
       "      <td>0</td>\n",
       "      <td>0</td>\n",
       "      <td>0</td>\n",
       "      <td>1</td>\n",
       "      <td>0</td>\n",
       "      <td>0</td>\n",
       "    </tr>\n",
       "    <tr>\n",
       "      <th>...</th>\n",
       "      <td>...</td>\n",
       "      <td>...</td>\n",
       "      <td>...</td>\n",
       "      <td>...</td>\n",
       "      <td>...</td>\n",
       "      <td>...</td>\n",
       "      <td>...</td>\n",
       "      <td>...</td>\n",
       "      <td>...</td>\n",
       "      <td>...</td>\n",
       "      <td>...</td>\n",
       "      <td>...</td>\n",
       "      <td>...</td>\n",
       "      <td>...</td>\n",
       "      <td>...</td>\n",
       "      <td>...</td>\n",
       "      <td>...</td>\n",
       "      <td>...</td>\n",
       "      <td>...</td>\n",
       "      <td>...</td>\n",
       "      <td>...</td>\n",
       "    </tr>\n",
       "    <tr>\n",
       "      <th>307481</th>\n",
       "      <td>1</td>\n",
       "      <td>0</td>\n",
       "      <td>297000.0</td>\n",
       "      <td>-3147</td>\n",
       "      <td>-8921.0</td>\n",
       "      <td>12.061139</td>\n",
       "      <td>1</td>\n",
       "      <td>1</td>\n",
       "      <td>2.0</td>\n",
       "      <td>0</td>\n",
       "      <td>...</td>\n",
       "      <td>1</td>\n",
       "      <td>0</td>\n",
       "      <td>0</td>\n",
       "      <td>1</td>\n",
       "      <td>0</td>\n",
       "      <td>1</td>\n",
       "      <td>0</td>\n",
       "      <td>0</td>\n",
       "      <td>0</td>\n",
       "      <td>0</td>\n",
       "    </tr>\n",
       "    <tr>\n",
       "      <th>307482</th>\n",
       "      <td>0</td>\n",
       "      <td>0</td>\n",
       "      <td>500566.5</td>\n",
       "      <td>-226</td>\n",
       "      <td>-2463.0</td>\n",
       "      <td>11.000000</td>\n",
       "      <td>1</td>\n",
       "      <td>1</td>\n",
       "      <td>2.0</td>\n",
       "      <td>0</td>\n",
       "      <td>...</td>\n",
       "      <td>0</td>\n",
       "      <td>1</td>\n",
       "      <td>0</td>\n",
       "      <td>1</td>\n",
       "      <td>0</td>\n",
       "      <td>1</td>\n",
       "      <td>0</td>\n",
       "      <td>0</td>\n",
       "      <td>0</td>\n",
       "      <td>0</td>\n",
       "    </tr>\n",
       "    <tr>\n",
       "      <th>307483</th>\n",
       "      <td>0</td>\n",
       "      <td>0</td>\n",
       "      <td>247275.0</td>\n",
       "      <td>365243</td>\n",
       "      <td>-11211.0</td>\n",
       "      <td>12.061139</td>\n",
       "      <td>1</td>\n",
       "      <td>0</td>\n",
       "      <td>1.0</td>\n",
       "      <td>0</td>\n",
       "      <td>...</td>\n",
       "      <td>1</td>\n",
       "      <td>0</td>\n",
       "      <td>0</td>\n",
       "      <td>1</td>\n",
       "      <td>0</td>\n",
       "      <td>0</td>\n",
       "      <td>1</td>\n",
       "      <td>0</td>\n",
       "      <td>0</td>\n",
       "      <td>0</td>\n",
       "    </tr>\n",
       "    <tr>\n",
       "      <th>307484</th>\n",
       "      <td>0</td>\n",
       "      <td>0</td>\n",
       "      <td>545040.0</td>\n",
       "      <td>-328</td>\n",
       "      <td>-2531.0</td>\n",
       "      <td>1.000000</td>\n",
       "      <td>1</td>\n",
       "      <td>1</td>\n",
       "      <td>2.0</td>\n",
       "      <td>0</td>\n",
       "      <td>...</td>\n",
       "      <td>0</td>\n",
       "      <td>1</td>\n",
       "      <td>1</td>\n",
       "      <td>0</td>\n",
       "      <td>0</td>\n",
       "      <td>1</td>\n",
       "      <td>0</td>\n",
       "      <td>0</td>\n",
       "      <td>0</td>\n",
       "      <td>0</td>\n",
       "    </tr>\n",
       "    <tr>\n",
       "      <th>307485</th>\n",
       "      <td>0</td>\n",
       "      <td>1</td>\n",
       "      <td>180000.0</td>\n",
       "      <td>-670</td>\n",
       "      <td>-1926.0</td>\n",
       "      <td>12.061139</td>\n",
       "      <td>1</td>\n",
       "      <td>1</td>\n",
       "      <td>2.0</td>\n",
       "      <td>1</td>\n",
       "      <td>...</td>\n",
       "      <td>1</td>\n",
       "      <td>0</td>\n",
       "      <td>0</td>\n",
       "      <td>1</td>\n",
       "      <td>0</td>\n",
       "      <td>0</td>\n",
       "      <td>1</td>\n",
       "      <td>0</td>\n",
       "      <td>0</td>\n",
       "      <td>0</td>\n",
       "    </tr>\n",
       "    <tr>\n",
       "      <th>307486</th>\n",
       "      <td>0</td>\n",
       "      <td>1</td>\n",
       "      <td>355536.0</td>\n",
       "      <td>-1185</td>\n",
       "      <td>-5034.0</td>\n",
       "      <td>9.000000</td>\n",
       "      <td>1</td>\n",
       "      <td>1</td>\n",
       "      <td>3.0</td>\n",
       "      <td>0</td>\n",
       "      <td>...</td>\n",
       "      <td>0</td>\n",
       "      <td>1</td>\n",
       "      <td>0</td>\n",
       "      <td>1</td>\n",
       "      <td>1</td>\n",
       "      <td>0</td>\n",
       "      <td>0</td>\n",
       "      <td>0</td>\n",
       "      <td>0</td>\n",
       "      <td>0</td>\n",
       "    </tr>\n",
       "    <tr>\n",
       "      <th>307487</th>\n",
       "      <td>0</td>\n",
       "      <td>0</td>\n",
       "      <td>1071909.0</td>\n",
       "      <td>365243</td>\n",
       "      <td>-5485.0</td>\n",
       "      <td>12.061139</td>\n",
       "      <td>1</td>\n",
       "      <td>0</td>\n",
       "      <td>2.0</td>\n",
       "      <td>0</td>\n",
       "      <td>...</td>\n",
       "      <td>1</td>\n",
       "      <td>0</td>\n",
       "      <td>0</td>\n",
       "      <td>1</td>\n",
       "      <td>0</td>\n",
       "      <td>1</td>\n",
       "      <td>0</td>\n",
       "      <td>0</td>\n",
       "      <td>0</td>\n",
       "      <td>0</td>\n",
       "    </tr>\n",
       "    <tr>\n",
       "      <th>307488</th>\n",
       "      <td>0</td>\n",
       "      <td>0</td>\n",
       "      <td>135000.0</td>\n",
       "      <td>-1218</td>\n",
       "      <td>-4158.0</td>\n",
       "      <td>12.061139</td>\n",
       "      <td>1</td>\n",
       "      <td>1</td>\n",
       "      <td>1.0</td>\n",
       "      <td>0</td>\n",
       "      <td>...</td>\n",
       "      <td>1</td>\n",
       "      <td>0</td>\n",
       "      <td>1</td>\n",
       "      <td>0</td>\n",
       "      <td>0</td>\n",
       "      <td>0</td>\n",
       "      <td>0</td>\n",
       "      <td>1</td>\n",
       "      <td>0</td>\n",
       "      <td>0</td>\n",
       "    </tr>\n",
       "    <tr>\n",
       "      <th>307489</th>\n",
       "      <td>1</td>\n",
       "      <td>0</td>\n",
       "      <td>521280.0</td>\n",
       "      <td>-286</td>\n",
       "      <td>-8291.0</td>\n",
       "      <td>12.061139</td>\n",
       "      <td>1</td>\n",
       "      <td>1</td>\n",
       "      <td>2.0</td>\n",
       "      <td>0</td>\n",
       "      <td>...</td>\n",
       "      <td>1</td>\n",
       "      <td>0</td>\n",
       "      <td>0</td>\n",
       "      <td>1</td>\n",
       "      <td>1</td>\n",
       "      <td>0</td>\n",
       "      <td>0</td>\n",
       "      <td>0</td>\n",
       "      <td>0</td>\n",
       "      <td>0</td>\n",
       "    </tr>\n",
       "    <tr>\n",
       "      <th>307490</th>\n",
       "      <td>0</td>\n",
       "      <td>0</td>\n",
       "      <td>135000.0</td>\n",
       "      <td>-1928</td>\n",
       "      <td>-9445.0</td>\n",
       "      <td>12.061139</td>\n",
       "      <td>1</td>\n",
       "      <td>1</td>\n",
       "      <td>1.0</td>\n",
       "      <td>0</td>\n",
       "      <td>...</td>\n",
       "      <td>1</td>\n",
       "      <td>0</td>\n",
       "      <td>0</td>\n",
       "      <td>1</td>\n",
       "      <td>0</td>\n",
       "      <td>0</td>\n",
       "      <td>0</td>\n",
       "      <td>1</td>\n",
       "      <td>0</td>\n",
       "      <td>0</td>\n",
       "    </tr>\n",
       "    <tr>\n",
       "      <th>307491</th>\n",
       "      <td>0</td>\n",
       "      <td>2</td>\n",
       "      <td>1078200.0</td>\n",
       "      <td>-1953</td>\n",
       "      <td>-5048.0</td>\n",
       "      <td>15.000000</td>\n",
       "      <td>1</td>\n",
       "      <td>1</td>\n",
       "      <td>4.0</td>\n",
       "      <td>0</td>\n",
       "      <td>...</td>\n",
       "      <td>0</td>\n",
       "      <td>1</td>\n",
       "      <td>0</td>\n",
       "      <td>1</td>\n",
       "      <td>0</td>\n",
       "      <td>1</td>\n",
       "      <td>0</td>\n",
       "      <td>0</td>\n",
       "      <td>0</td>\n",
       "      <td>0</td>\n",
       "    </tr>\n",
       "    <tr>\n",
       "      <th>307492</th>\n",
       "      <td>0</td>\n",
       "      <td>0</td>\n",
       "      <td>1575000.0</td>\n",
       "      <td>-1618</td>\n",
       "      <td>-1764.0</td>\n",
       "      <td>2.000000</td>\n",
       "      <td>1</td>\n",
       "      <td>1</td>\n",
       "      <td>2.0</td>\n",
       "      <td>0</td>\n",
       "      <td>...</td>\n",
       "      <td>0</td>\n",
       "      <td>1</td>\n",
       "      <td>0</td>\n",
       "      <td>1</td>\n",
       "      <td>0</td>\n",
       "      <td>1</td>\n",
       "      <td>0</td>\n",
       "      <td>0</td>\n",
       "      <td>0</td>\n",
       "      <td>0</td>\n",
       "    </tr>\n",
       "    <tr>\n",
       "      <th>307493</th>\n",
       "      <td>0</td>\n",
       "      <td>0</td>\n",
       "      <td>946764.0</td>\n",
       "      <td>-2306</td>\n",
       "      <td>-5032.0</td>\n",
       "      <td>12.061139</td>\n",
       "      <td>1</td>\n",
       "      <td>1</td>\n",
       "      <td>2.0</td>\n",
       "      <td>0</td>\n",
       "      <td>...</td>\n",
       "      <td>1</td>\n",
       "      <td>0</td>\n",
       "      <td>0</td>\n",
       "      <td>1</td>\n",
       "      <td>0</td>\n",
       "      <td>1</td>\n",
       "      <td>0</td>\n",
       "      <td>0</td>\n",
       "      <td>0</td>\n",
       "      <td>0</td>\n",
       "    </tr>\n",
       "    <tr>\n",
       "      <th>307494</th>\n",
       "      <td>0</td>\n",
       "      <td>1</td>\n",
       "      <td>479700.0</td>\n",
       "      <td>-6573</td>\n",
       "      <td>-1438.0</td>\n",
       "      <td>15.000000</td>\n",
       "      <td>1</td>\n",
       "      <td>1</td>\n",
       "      <td>3.0</td>\n",
       "      <td>0</td>\n",
       "      <td>...</td>\n",
       "      <td>0</td>\n",
       "      <td>1</td>\n",
       "      <td>1</td>\n",
       "      <td>0</td>\n",
       "      <td>0</td>\n",
       "      <td>1</td>\n",
       "      <td>0</td>\n",
       "      <td>0</td>\n",
       "      <td>0</td>\n",
       "      <td>0</td>\n",
       "    </tr>\n",
       "    <tr>\n",
       "      <th>307495</th>\n",
       "      <td>0</td>\n",
       "      <td>0</td>\n",
       "      <td>808650.0</td>\n",
       "      <td>-7438</td>\n",
       "      <td>-9596.0</td>\n",
       "      <td>2.000000</td>\n",
       "      <td>1</td>\n",
       "      <td>1</td>\n",
       "      <td>2.0</td>\n",
       "      <td>0</td>\n",
       "      <td>...</td>\n",
       "      <td>0</td>\n",
       "      <td>1</td>\n",
       "      <td>1</td>\n",
       "      <td>0</td>\n",
       "      <td>0</td>\n",
       "      <td>1</td>\n",
       "      <td>0</td>\n",
       "      <td>0</td>\n",
       "      <td>0</td>\n",
       "      <td>0</td>\n",
       "    </tr>\n",
       "    <tr>\n",
       "      <th>307496</th>\n",
       "      <td>0</td>\n",
       "      <td>0</td>\n",
       "      <td>337500.0</td>\n",
       "      <td>-2178</td>\n",
       "      <td>-4262.0</td>\n",
       "      <td>12.061139</td>\n",
       "      <td>1</td>\n",
       "      <td>1</td>\n",
       "      <td>2.0</td>\n",
       "      <td>0</td>\n",
       "      <td>...</td>\n",
       "      <td>1</td>\n",
       "      <td>0</td>\n",
       "      <td>1</td>\n",
       "      <td>0</td>\n",
       "      <td>0</td>\n",
       "      <td>1</td>\n",
       "      <td>0</td>\n",
       "      <td>0</td>\n",
       "      <td>0</td>\n",
       "      <td>0</td>\n",
       "    </tr>\n",
       "    <tr>\n",
       "      <th>307497</th>\n",
       "      <td>0</td>\n",
       "      <td>0</td>\n",
       "      <td>270126.0</td>\n",
       "      <td>-1222</td>\n",
       "      <td>-1916.0</td>\n",
       "      <td>0.000000</td>\n",
       "      <td>1</td>\n",
       "      <td>1</td>\n",
       "      <td>2.0</td>\n",
       "      <td>0</td>\n",
       "      <td>...</td>\n",
       "      <td>0</td>\n",
       "      <td>1</td>\n",
       "      <td>0</td>\n",
       "      <td>1</td>\n",
       "      <td>0</td>\n",
       "      <td>1</td>\n",
       "      <td>0</td>\n",
       "      <td>0</td>\n",
       "      <td>0</td>\n",
       "      <td>0</td>\n",
       "    </tr>\n",
       "    <tr>\n",
       "      <th>307498</th>\n",
       "      <td>0</td>\n",
       "      <td>0</td>\n",
       "      <td>1312110.0</td>\n",
       "      <td>-3689</td>\n",
       "      <td>-746.0</td>\n",
       "      <td>10.000000</td>\n",
       "      <td>1</td>\n",
       "      <td>1</td>\n",
       "      <td>2.0</td>\n",
       "      <td>0</td>\n",
       "      <td>...</td>\n",
       "      <td>0</td>\n",
       "      <td>1</td>\n",
       "      <td>0</td>\n",
       "      <td>1</td>\n",
       "      <td>0</td>\n",
       "      <td>1</td>\n",
       "      <td>0</td>\n",
       "      <td>0</td>\n",
       "      <td>0</td>\n",
       "      <td>0</td>\n",
       "    </tr>\n",
       "    <tr>\n",
       "      <th>307499</th>\n",
       "      <td>0</td>\n",
       "      <td>0</td>\n",
       "      <td>225000.0</td>\n",
       "      <td>-8694</td>\n",
       "      <td>-5396.0</td>\n",
       "      <td>12.061139</td>\n",
       "      <td>1</td>\n",
       "      <td>1</td>\n",
       "      <td>2.0</td>\n",
       "      <td>0</td>\n",
       "      <td>...</td>\n",
       "      <td>1</td>\n",
       "      <td>0</td>\n",
       "      <td>0</td>\n",
       "      <td>1</td>\n",
       "      <td>0</td>\n",
       "      <td>1</td>\n",
       "      <td>0</td>\n",
       "      <td>0</td>\n",
       "      <td>0</td>\n",
       "      <td>0</td>\n",
       "    </tr>\n",
       "    <tr>\n",
       "      <th>307500</th>\n",
       "      <td>0</td>\n",
       "      <td>0</td>\n",
       "      <td>1303812.0</td>\n",
       "      <td>-5326</td>\n",
       "      <td>-157.0</td>\n",
       "      <td>12.061139</td>\n",
       "      <td>1</td>\n",
       "      <td>1</td>\n",
       "      <td>2.0</td>\n",
       "      <td>0</td>\n",
       "      <td>...</td>\n",
       "      <td>1</td>\n",
       "      <td>0</td>\n",
       "      <td>0</td>\n",
       "      <td>1</td>\n",
       "      <td>0</td>\n",
       "      <td>1</td>\n",
       "      <td>0</td>\n",
       "      <td>0</td>\n",
       "      <td>0</td>\n",
       "      <td>0</td>\n",
       "    </tr>\n",
       "    <tr>\n",
       "      <th>307501</th>\n",
       "      <td>0</td>\n",
       "      <td>3</td>\n",
       "      <td>269550.0</td>\n",
       "      <td>-1046</td>\n",
       "      <td>-1398.0</td>\n",
       "      <td>12.061139</td>\n",
       "      <td>1</td>\n",
       "      <td>1</td>\n",
       "      <td>5.0</td>\n",
       "      <td>0</td>\n",
       "      <td>...</td>\n",
       "      <td>1</td>\n",
       "      <td>0</td>\n",
       "      <td>0</td>\n",
       "      <td>1</td>\n",
       "      <td>0</td>\n",
       "      <td>1</td>\n",
       "      <td>0</td>\n",
       "      <td>0</td>\n",
       "      <td>0</td>\n",
       "      <td>0</td>\n",
       "    </tr>\n",
       "    <tr>\n",
       "      <th>307502</th>\n",
       "      <td>0</td>\n",
       "      <td>1</td>\n",
       "      <td>225000.0</td>\n",
       "      <td>-8736</td>\n",
       "      <td>-8672.0</td>\n",
       "      <td>12.061139</td>\n",
       "      <td>1</td>\n",
       "      <td>1</td>\n",
       "      <td>3.0</td>\n",
       "      <td>0</td>\n",
       "      <td>...</td>\n",
       "      <td>1</td>\n",
       "      <td>0</td>\n",
       "      <td>0</td>\n",
       "      <td>1</td>\n",
       "      <td>0</td>\n",
       "      <td>1</td>\n",
       "      <td>0</td>\n",
       "      <td>0</td>\n",
       "      <td>0</td>\n",
       "      <td>0</td>\n",
       "    </tr>\n",
       "    <tr>\n",
       "      <th>307503</th>\n",
       "      <td>0</td>\n",
       "      <td>0</td>\n",
       "      <td>345510.0</td>\n",
       "      <td>-399</td>\n",
       "      <td>-675.0</td>\n",
       "      <td>12.061139</td>\n",
       "      <td>1</td>\n",
       "      <td>1</td>\n",
       "      <td>1.0</td>\n",
       "      <td>0</td>\n",
       "      <td>...</td>\n",
       "      <td>1</td>\n",
       "      <td>0</td>\n",
       "      <td>0</td>\n",
       "      <td>1</td>\n",
       "      <td>0</td>\n",
       "      <td>0</td>\n",
       "      <td>0</td>\n",
       "      <td>1</td>\n",
       "      <td>0</td>\n",
       "      <td>0</td>\n",
       "    </tr>\n",
       "    <tr>\n",
       "      <th>307504</th>\n",
       "      <td>0</td>\n",
       "      <td>0</td>\n",
       "      <td>331920.0</td>\n",
       "      <td>-7258</td>\n",
       "      <td>-9798.0</td>\n",
       "      <td>12.061139</td>\n",
       "      <td>1</td>\n",
       "      <td>1</td>\n",
       "      <td>1.0</td>\n",
       "      <td>0</td>\n",
       "      <td>...</td>\n",
       "      <td>1</td>\n",
       "      <td>0</td>\n",
       "      <td>0</td>\n",
       "      <td>1</td>\n",
       "      <td>0</td>\n",
       "      <td>0</td>\n",
       "      <td>1</td>\n",
       "      <td>0</td>\n",
       "      <td>0</td>\n",
       "      <td>0</td>\n",
       "    </tr>\n",
       "    <tr>\n",
       "      <th>307505</th>\n",
       "      <td>0</td>\n",
       "      <td>0</td>\n",
       "      <td>225000.0</td>\n",
       "      <td>365243</td>\n",
       "      <td>-7369.0</td>\n",
       "      <td>12.061139</td>\n",
       "      <td>1</td>\n",
       "      <td>0</td>\n",
       "      <td>1.0</td>\n",
       "      <td>0</td>\n",
       "      <td>...</td>\n",
       "      <td>1</td>\n",
       "      <td>0</td>\n",
       "      <td>0</td>\n",
       "      <td>1</td>\n",
       "      <td>0</td>\n",
       "      <td>0</td>\n",
       "      <td>0</td>\n",
       "      <td>1</td>\n",
       "      <td>0</td>\n",
       "      <td>0</td>\n",
       "    </tr>\n",
       "    <tr>\n",
       "      <th>307506</th>\n",
       "      <td>0</td>\n",
       "      <td>0</td>\n",
       "      <td>254700.0</td>\n",
       "      <td>-236</td>\n",
       "      <td>-8456.0</td>\n",
       "      <td>12.061139</td>\n",
       "      <td>1</td>\n",
       "      <td>1</td>\n",
       "      <td>1.0</td>\n",
       "      <td>0</td>\n",
       "      <td>...</td>\n",
       "      <td>1</td>\n",
       "      <td>0</td>\n",
       "      <td>1</td>\n",
       "      <td>0</td>\n",
       "      <td>0</td>\n",
       "      <td>0</td>\n",
       "      <td>1</td>\n",
       "      <td>0</td>\n",
       "      <td>0</td>\n",
       "      <td>0</td>\n",
       "    </tr>\n",
       "    <tr>\n",
       "      <th>307507</th>\n",
       "      <td>0</td>\n",
       "      <td>0</td>\n",
       "      <td>269550.0</td>\n",
       "      <td>365243</td>\n",
       "      <td>-4388.0</td>\n",
       "      <td>12.061139</td>\n",
       "      <td>1</td>\n",
       "      <td>0</td>\n",
       "      <td>1.0</td>\n",
       "      <td>0</td>\n",
       "      <td>...</td>\n",
       "      <td>1</td>\n",
       "      <td>0</td>\n",
       "      <td>0</td>\n",
       "      <td>1</td>\n",
       "      <td>0</td>\n",
       "      <td>0</td>\n",
       "      <td>0</td>\n",
       "      <td>0</td>\n",
       "      <td>0</td>\n",
       "      <td>1</td>\n",
       "    </tr>\n",
       "    <tr>\n",
       "      <th>307508</th>\n",
       "      <td>0</td>\n",
       "      <td>0</td>\n",
       "      <td>677664.0</td>\n",
       "      <td>-7921</td>\n",
       "      <td>-6737.0</td>\n",
       "      <td>12.061139</td>\n",
       "      <td>1</td>\n",
       "      <td>1</td>\n",
       "      <td>1.0</td>\n",
       "      <td>0</td>\n",
       "      <td>...</td>\n",
       "      <td>1</td>\n",
       "      <td>0</td>\n",
       "      <td>0</td>\n",
       "      <td>1</td>\n",
       "      <td>0</td>\n",
       "      <td>0</td>\n",
       "      <td>1</td>\n",
       "      <td>0</td>\n",
       "      <td>0</td>\n",
       "      <td>0</td>\n",
       "    </tr>\n",
       "    <tr>\n",
       "      <th>307509</th>\n",
       "      <td>1</td>\n",
       "      <td>0</td>\n",
       "      <td>370107.0</td>\n",
       "      <td>-4786</td>\n",
       "      <td>-2562.0</td>\n",
       "      <td>12.061139</td>\n",
       "      <td>1</td>\n",
       "      <td>1</td>\n",
       "      <td>2.0</td>\n",
       "      <td>0</td>\n",
       "      <td>...</td>\n",
       "      <td>1</td>\n",
       "      <td>0</td>\n",
       "      <td>0</td>\n",
       "      <td>1</td>\n",
       "      <td>0</td>\n",
       "      <td>1</td>\n",
       "      <td>0</td>\n",
       "      <td>0</td>\n",
       "      <td>0</td>\n",
       "      <td>0</td>\n",
       "    </tr>\n",
       "    <tr>\n",
       "      <th>307510</th>\n",
       "      <td>0</td>\n",
       "      <td>0</td>\n",
       "      <td>675000.0</td>\n",
       "      <td>-1262</td>\n",
       "      <td>-5128.0</td>\n",
       "      <td>12.061139</td>\n",
       "      <td>1</td>\n",
       "      <td>1</td>\n",
       "      <td>2.0</td>\n",
       "      <td>0</td>\n",
       "      <td>...</td>\n",
       "      <td>1</td>\n",
       "      <td>0</td>\n",
       "      <td>1</td>\n",
       "      <td>0</td>\n",
       "      <td>0</td>\n",
       "      <td>1</td>\n",
       "      <td>0</td>\n",
       "      <td>0</td>\n",
       "      <td>0</td>\n",
       "      <td>0</td>\n",
       "    </tr>\n",
       "  </tbody>\n",
       "</table>\n",
       "<p>307509 rows × 26 columns</p>\n",
       "</div>"
      ],
      "text/plain": [
       "        TARGET  CNT_CHILDREN  AMT_CREDIT  DAYS_EMPLOYED  DAYS_REGISTRATION  \\\n",
       "0            1             0    406597.5           -637            -3648.0   \n",
       "1            0             0   1293502.5          -1188            -1186.0   \n",
       "2            0             0    135000.0           -225            -4260.0   \n",
       "3            0             0    312682.5          -3039            -9833.0   \n",
       "4            0             0    513000.0          -3038            -4311.0   \n",
       "5            0             0    490495.5          -1588            -4970.0   \n",
       "6            0             1   1560726.0          -3130            -1213.0   \n",
       "7            0             0   1530000.0           -449            -4597.0   \n",
       "8            0             0   1019610.0         365243            -7427.0   \n",
       "9            0             0    405000.0          -2019           -14437.0   \n",
       "10           0             1    652500.0           -679            -4427.0   \n",
       "11           0             0    148365.0         365243            -5246.0   \n",
       "12           0             0     80865.0          -2717             -311.0   \n",
       "13           0             1    918468.0          -3028             -643.0   \n",
       "14           0             0    773680.5           -203             -615.0   \n",
       "15           0             0    299772.0          -1157            -3494.0   \n",
       "16           0             0    509602.5          -1317            -6392.0   \n",
       "17           0             1    270000.0           -191            -4143.0   \n",
       "18           0             0    157500.0          -7804            -8751.0   \n",
       "19           0             1    544491.0          -2038            -1021.0   \n",
       "20           0             0    427500.0          -4286             -298.0   \n",
       "21           0             1   1132573.5          -1652            -2299.0   \n",
       "22           0             1    497520.0          -4306             -114.0   \n",
       "23           0             0    239850.0         365243            -9012.0   \n",
       "24           0             2    247500.0           -746             -108.0   \n",
       "25           0             0    225000.0          -3494            -2419.0   \n",
       "26           1             0    979992.0          -2628            -6573.0   \n",
       "27           0             1    327024.0          -1234            -5782.0   \n",
       "28           0             0    790830.0          -1796            -4668.0   \n",
       "29           0             0    180000.0          -1010            -4799.0   \n",
       "...        ...           ...         ...            ...                ...   \n",
       "307481       1             0    297000.0          -3147            -8921.0   \n",
       "307482       0             0    500566.5           -226            -2463.0   \n",
       "307483       0             0    247275.0         365243           -11211.0   \n",
       "307484       0             0    545040.0           -328            -2531.0   \n",
       "307485       0             1    180000.0           -670            -1926.0   \n",
       "307486       0             1    355536.0          -1185            -5034.0   \n",
       "307487       0             0   1071909.0         365243            -5485.0   \n",
       "307488       0             0    135000.0          -1218            -4158.0   \n",
       "307489       1             0    521280.0           -286            -8291.0   \n",
       "307490       0             0    135000.0          -1928            -9445.0   \n",
       "307491       0             2   1078200.0          -1953            -5048.0   \n",
       "307492       0             0   1575000.0          -1618            -1764.0   \n",
       "307493       0             0    946764.0          -2306            -5032.0   \n",
       "307494       0             1    479700.0          -6573            -1438.0   \n",
       "307495       0             0    808650.0          -7438            -9596.0   \n",
       "307496       0             0    337500.0          -2178            -4262.0   \n",
       "307497       0             0    270126.0          -1222            -1916.0   \n",
       "307498       0             0   1312110.0          -3689             -746.0   \n",
       "307499       0             0    225000.0          -8694            -5396.0   \n",
       "307500       0             0   1303812.0          -5326             -157.0   \n",
       "307501       0             3    269550.0          -1046            -1398.0   \n",
       "307502       0             1    225000.0          -8736            -8672.0   \n",
       "307503       0             0    345510.0           -399             -675.0   \n",
       "307504       0             0    331920.0          -7258            -9798.0   \n",
       "307505       0             0    225000.0         365243            -7369.0   \n",
       "307506       0             0    254700.0           -236            -8456.0   \n",
       "307507       0             0    269550.0         365243            -4388.0   \n",
       "307508       0             0    677664.0          -7921            -6737.0   \n",
       "307509       1             0    370107.0          -4786            -2562.0   \n",
       "307510       0             0    675000.0          -1262            -5128.0   \n",
       "\n",
       "        OWN_CAR_AGE  FLAG_MOBIL  FLAG_EMP_PHONE  CNT_FAM_MEMBERS  \\\n",
       "0         12.061139           1               1              1.0   \n",
       "1         12.061139           1               1              2.0   \n",
       "2         26.000000           1               1              1.0   \n",
       "3         12.061139           1               1              2.0   \n",
       "4         12.061139           1               1              1.0   \n",
       "5         12.061139           1               1              2.0   \n",
       "6         17.000000           1               1              3.0   \n",
       "7          8.000000           1               1              2.0   \n",
       "8         12.061139           1               0              2.0   \n",
       "9         12.061139           1               1              1.0   \n",
       "10        12.061139           1               1              3.0   \n",
       "11        12.061139           1               0              2.0   \n",
       "12        12.061139           1               1              2.0   \n",
       "13        23.000000           1               1              3.0   \n",
       "14        12.061139           1               1              2.0   \n",
       "15        17.000000           1               1              1.0   \n",
       "16        12.061139           1               1              2.0   \n",
       "17        12.061139           1               1              3.0   \n",
       "18        12.061139           1               1              1.0   \n",
       "19        12.061139           1               1              2.0   \n",
       "20         7.000000           1               1              2.0   \n",
       "21        14.000000           1               1              3.0   \n",
       "22        12.061139           1               1              3.0   \n",
       "23        12.061139           1               0              2.0   \n",
       "24         7.000000           1               1              4.0   \n",
       "25        12.061139           1               1              2.0   \n",
       "26        12.061139           1               1              1.0   \n",
       "27        12.061139           1               1              3.0   \n",
       "28         1.000000           1               1              1.0   \n",
       "29        12.061139           1               1              1.0   \n",
       "...             ...         ...             ...              ...   \n",
       "307481    12.061139           1               1              2.0   \n",
       "307482    11.000000           1               1              2.0   \n",
       "307483    12.061139           1               0              1.0   \n",
       "307484     1.000000           1               1              2.0   \n",
       "307485    12.061139           1               1              2.0   \n",
       "307486     9.000000           1               1              3.0   \n",
       "307487    12.061139           1               0              2.0   \n",
       "307488    12.061139           1               1              1.0   \n",
       "307489    12.061139           1               1              2.0   \n",
       "307490    12.061139           1               1              1.0   \n",
       "307491    15.000000           1               1              4.0   \n",
       "307492     2.000000           1               1              2.0   \n",
       "307493    12.061139           1               1              2.0   \n",
       "307494    15.000000           1               1              3.0   \n",
       "307495     2.000000           1               1              2.0   \n",
       "307496    12.061139           1               1              2.0   \n",
       "307497     0.000000           1               1              2.0   \n",
       "307498    10.000000           1               1              2.0   \n",
       "307499    12.061139           1               1              2.0   \n",
       "307500    12.061139           1               1              2.0   \n",
       "307501    12.061139           1               1              5.0   \n",
       "307502    12.061139           1               1              3.0   \n",
       "307503    12.061139           1               1              1.0   \n",
       "307504    12.061139           1               1              1.0   \n",
       "307505    12.061139           1               0              1.0   \n",
       "307506    12.061139           1               1              1.0   \n",
       "307507    12.061139           1               0              1.0   \n",
       "307508    12.061139           1               1              1.0   \n",
       "307509    12.061139           1               1              2.0   \n",
       "307510    12.061139           1               1              2.0   \n",
       "\n",
       "        REG_REGION_NOT_LIVE_REGION            ...             FLAG_OWN_CAR_N  \\\n",
       "0                                0            ...                          1   \n",
       "1                                0            ...                          1   \n",
       "2                                0            ...                          0   \n",
       "3                                0            ...                          1   \n",
       "4                                0            ...                          1   \n",
       "5                                0            ...                          1   \n",
       "6                                0            ...                          0   \n",
       "7                                0            ...                          0   \n",
       "8                                0            ...                          1   \n",
       "9                                0            ...                          1   \n",
       "10                               0            ...                          1   \n",
       "11                               0            ...                          1   \n",
       "12                               0            ...                          1   \n",
       "13                               0            ...                          0   \n",
       "14                               0            ...                          1   \n",
       "15                               0            ...                          0   \n",
       "16                               0            ...                          1   \n",
       "17                               0            ...                          1   \n",
       "18                               0            ...                          1   \n",
       "19                               0            ...                          1   \n",
       "20                               0            ...                          0   \n",
       "21                               0            ...                          0   \n",
       "22                               0            ...                          1   \n",
       "23                               0            ...                          1   \n",
       "24                               0            ...                          0   \n",
       "25                               0            ...                          1   \n",
       "26                               0            ...                          1   \n",
       "27                               0            ...                          1   \n",
       "28                               0            ...                          0   \n",
       "29                               0            ...                          1   \n",
       "...                            ...            ...                        ...   \n",
       "307481                           0            ...                          1   \n",
       "307482                           0            ...                          0   \n",
       "307483                           0            ...                          1   \n",
       "307484                           0            ...                          0   \n",
       "307485                           1            ...                          1   \n",
       "307486                           0            ...                          0   \n",
       "307487                           0            ...                          1   \n",
       "307488                           0            ...                          1   \n",
       "307489                           0            ...                          1   \n",
       "307490                           0            ...                          1   \n",
       "307491                           0            ...                          0   \n",
       "307492                           0            ...                          0   \n",
       "307493                           0            ...                          1   \n",
       "307494                           0            ...                          0   \n",
       "307495                           0            ...                          0   \n",
       "307496                           0            ...                          1   \n",
       "307497                           0            ...                          0   \n",
       "307498                           0            ...                          0   \n",
       "307499                           0            ...                          1   \n",
       "307500                           0            ...                          1   \n",
       "307501                           0            ...                          1   \n",
       "307502                           0            ...                          1   \n",
       "307503                           0            ...                          1   \n",
       "307504                           0            ...                          1   \n",
       "307505                           0            ...                          1   \n",
       "307506                           0            ...                          1   \n",
       "307507                           0            ...                          1   \n",
       "307508                           0            ...                          1   \n",
       "307509                           0            ...                          1   \n",
       "307510                           0            ...                          1   \n",
       "\n",
       "        FLAG_OWN_CAR_Y  FLAG_OWN_REALTY_N  FLAG_OWN_REALTY_Y  \\\n",
       "0                    0                  0                  1   \n",
       "1                    0                  1                  0   \n",
       "2                    1                  0                  1   \n",
       "3                    0                  0                  1   \n",
       "4                    0                  0                  1   \n",
       "5                    0                  0                  1   \n",
       "6                    1                  0                  1   \n",
       "7                    1                  0                  1   \n",
       "8                    0                  0                  1   \n",
       "9                    0                  0                  1   \n",
       "10                   0                  0                  1   \n",
       "11                   0                  0                  1   \n",
       "12                   0                  0                  1   \n",
       "13                   1                  1                  0   \n",
       "14                   0                  0                  1   \n",
       "15                   1                  0                  1   \n",
       "16                   0                  1                  0   \n",
       "17                   0                  0                  1   \n",
       "18                   0                  0                  1   \n",
       "19                   0                  0                  1   \n",
       "20                   1                  0                  1   \n",
       "21                   1                  0                  1   \n",
       "22                   0                  1                  0   \n",
       "23                   0                  0                  1   \n",
       "24                   1                  1                  0   \n",
       "25                   0                  0                  1   \n",
       "26                   0                  0                  1   \n",
       "27                   0                  0                  1   \n",
       "28                   1                  0                  1   \n",
       "29                   0                  0                  1   \n",
       "...                ...                ...                ...   \n",
       "307481               0                  0                  1   \n",
       "307482               1                  0                  1   \n",
       "307483               0                  0                  1   \n",
       "307484               1                  1                  0   \n",
       "307485               0                  0                  1   \n",
       "307486               1                  0                  1   \n",
       "307487               0                  0                  1   \n",
       "307488               0                  1                  0   \n",
       "307489               0                  0                  1   \n",
       "307490               0                  0                  1   \n",
       "307491               1                  0                  1   \n",
       "307492               1                  0                  1   \n",
       "307493               0                  0                  1   \n",
       "307494               1                  1                  0   \n",
       "307495               1                  1                  0   \n",
       "307496               0                  1                  0   \n",
       "307497               1                  0                  1   \n",
       "307498               1                  0                  1   \n",
       "307499               0                  0                  1   \n",
       "307500               0                  0                  1   \n",
       "307501               0                  0                  1   \n",
       "307502               0                  0                  1   \n",
       "307503               0                  0                  1   \n",
       "307504               0                  0                  1   \n",
       "307505               0                  0                  1   \n",
       "307506               0                  1                  0   \n",
       "307507               0                  0                  1   \n",
       "307508               0                  0                  1   \n",
       "307509               0                  0                  1   \n",
       "307510               0                  1                  0   \n",
       "\n",
       "        NAME_FAMILY_STATUS_Civil marriage  NAME_FAMILY_STATUS_Married  \\\n",
       "0                                       0                           0   \n",
       "1                                       0                           1   \n",
       "2                                       0                           0   \n",
       "3                                       1                           0   \n",
       "4                                       0                           0   \n",
       "5                                       0                           1   \n",
       "6                                       0                           1   \n",
       "7                                       0                           1   \n",
       "8                                       0                           1   \n",
       "9                                       0                           0   \n",
       "10                                      0                           1   \n",
       "11                                      0                           1   \n",
       "12                                      0                           1   \n",
       "13                                      0                           1   \n",
       "14                                      0                           1   \n",
       "15                                      0                           0   \n",
       "16                                      0                           1   \n",
       "17                                      0                           1   \n",
       "18                                      0                           0   \n",
       "19                                      0                           0   \n",
       "20                                      0                           1   \n",
       "21                                      0                           1   \n",
       "22                                      0                           1   \n",
       "23                                      0                           1   \n",
       "24                                      0                           1   \n",
       "25                                      0                           1   \n",
       "26                                      0                           0   \n",
       "27                                      0                           1   \n",
       "28                                      0                           0   \n",
       "29                                      0                           0   \n",
       "...                                   ...                         ...   \n",
       "307481                                  0                           1   \n",
       "307482                                  0                           1   \n",
       "307483                                  0                           0   \n",
       "307484                                  0                           1   \n",
       "307485                                  0                           0   \n",
       "307486                                  1                           0   \n",
       "307487                                  0                           1   \n",
       "307488                                  0                           0   \n",
       "307489                                  1                           0   \n",
       "307490                                  0                           0   \n",
       "307491                                  0                           1   \n",
       "307492                                  0                           1   \n",
       "307493                                  0                           1   \n",
       "307494                                  0                           1   \n",
       "307495                                  0                           1   \n",
       "307496                                  0                           1   \n",
       "307497                                  0                           1   \n",
       "307498                                  0                           1   \n",
       "307499                                  0                           1   \n",
       "307500                                  0                           1   \n",
       "307501                                  0                           1   \n",
       "307502                                  0                           1   \n",
       "307503                                  0                           0   \n",
       "307504                                  0                           0   \n",
       "307505                                  0                           0   \n",
       "307506                                  0                           0   \n",
       "307507                                  0                           0   \n",
       "307508                                  0                           0   \n",
       "307509                                  0                           1   \n",
       "307510                                  0                           1   \n",
       "\n",
       "        NAME_FAMILY_STATUS_Separated  NAME_FAMILY_STATUS_Single / not married  \\\n",
       "0                                  0                                        1   \n",
       "1                                  0                                        0   \n",
       "2                                  0                                        1   \n",
       "3                                  0                                        0   \n",
       "4                                  0                                        1   \n",
       "5                                  0                                        0   \n",
       "6                                  0                                        0   \n",
       "7                                  0                                        0   \n",
       "8                                  0                                        0   \n",
       "9                                  0                                        1   \n",
       "10                                 0                                        0   \n",
       "11                                 0                                        0   \n",
       "12                                 0                                        0   \n",
       "13                                 0                                        0   \n",
       "14                                 0                                        0   \n",
       "15                                 0                                        1   \n",
       "16                                 0                                        0   \n",
       "17                                 0                                        0   \n",
       "18                                 0                                        0   \n",
       "19                                 0                                        1   \n",
       "20                                 0                                        0   \n",
       "21                                 0                                        0   \n",
       "22                                 0                                        0   \n",
       "23                                 0                                        0   \n",
       "24                                 0                                        0   \n",
       "25                                 0                                        0   \n",
       "26                                 0                                        0   \n",
       "27                                 0                                        0   \n",
       "28                                 0                                        1   \n",
       "29                                 0                                        1   \n",
       "...                              ...                                      ...   \n",
       "307481                             0                                        0   \n",
       "307482                             0                                        0   \n",
       "307483                             1                                        0   \n",
       "307484                             0                                        0   \n",
       "307485                             1                                        0   \n",
       "307486                             0                                        0   \n",
       "307487                             0                                        0   \n",
       "307488                             0                                        1   \n",
       "307489                             0                                        0   \n",
       "307490                             0                                        1   \n",
       "307491                             0                                        0   \n",
       "307492                             0                                        0   \n",
       "307493                             0                                        0   \n",
       "307494                             0                                        0   \n",
       "307495                             0                                        0   \n",
       "307496                             0                                        0   \n",
       "307497                             0                                        0   \n",
       "307498                             0                                        0   \n",
       "307499                             0                                        0   \n",
       "307500                             0                                        0   \n",
       "307501                             0                                        0   \n",
       "307502                             0                                        0   \n",
       "307503                             0                                        1   \n",
       "307504                             1                                        0   \n",
       "307505                             0                                        1   \n",
       "307506                             1                                        0   \n",
       "307507                             0                                        0   \n",
       "307508                             1                                        0   \n",
       "307509                             0                                        0   \n",
       "307510                             0                                        0   \n",
       "\n",
       "        NAME_FAMILY_STATUS_Unknown  NAME_FAMILY_STATUS_Widow  \n",
       "0                                0                         0  \n",
       "1                                0                         0  \n",
       "2                                0                         0  \n",
       "3                                0                         0  \n",
       "4                                0                         0  \n",
       "5                                0                         0  \n",
       "6                                0                         0  \n",
       "7                                0                         0  \n",
       "8                                0                         0  \n",
       "9                                0                         0  \n",
       "10                               0                         0  \n",
       "11                               0                         0  \n",
       "12                               0                         0  \n",
       "13                               0                         0  \n",
       "14                               0                         0  \n",
       "15                               0                         0  \n",
       "16                               0                         0  \n",
       "17                               0                         0  \n",
       "18                               0                         1  \n",
       "19                               0                         0  \n",
       "20                               0                         0  \n",
       "21                               0                         0  \n",
       "22                               0                         0  \n",
       "23                               0                         0  \n",
       "24                               0                         0  \n",
       "25                               0                         0  \n",
       "26                               0                         1  \n",
       "27                               0                         0  \n",
       "28                               0                         0  \n",
       "29                               0                         0  \n",
       "...                            ...                       ...  \n",
       "307481                           0                         0  \n",
       "307482                           0                         0  \n",
       "307483                           0                         0  \n",
       "307484                           0                         0  \n",
       "307485                           0                         0  \n",
       "307486                           0                         0  \n",
       "307487                           0                         0  \n",
       "307488                           0                         0  \n",
       "307489                           0                         0  \n",
       "307490                           0                         0  \n",
       "307491                           0                         0  \n",
       "307492                           0                         0  \n",
       "307493                           0                         0  \n",
       "307494                           0                         0  \n",
       "307495                           0                         0  \n",
       "307496                           0                         0  \n",
       "307497                           0                         0  \n",
       "307498                           0                         0  \n",
       "307499                           0                         0  \n",
       "307500                           0                         0  \n",
       "307501                           0                         0  \n",
       "307502                           0                         0  \n",
       "307503                           0                         0  \n",
       "307504                           0                         0  \n",
       "307505                           0                         0  \n",
       "307506                           0                         0  \n",
       "307507                           0                         1  \n",
       "307508                           0                         0  \n",
       "307509                           0                         0  \n",
       "307510                           0                         0  \n",
       "\n",
       "[307509 rows x 26 columns]"
      ]
     },
     "execution_count": 65,
     "metadata": {},
     "output_type": "execute_result"
    }
   ],
   "source": [
    "datos.fillna(datos.mean(),inplace=True)"
   ]
  },
  {
   "cell_type": "code",
   "execution_count": 66,
   "metadata": {},
   "outputs": [
    {
     "data": {
      "text/html": [
       "<div>\n",
       "<style>\n",
       "    .dataframe thead tr:only-child th {\n",
       "        text-align: right;\n",
       "    }\n",
       "\n",
       "    .dataframe thead th {\n",
       "        text-align: left;\n",
       "    }\n",
       "\n",
       "    .dataframe tbody tr th {\n",
       "        vertical-align: top;\n",
       "    }\n",
       "</style>\n",
       "<table border=\"1\" class=\"dataframe\">\n",
       "  <thead>\n",
       "    <tr style=\"text-align: right;\">\n",
       "      <th></th>\n",
       "      <th>TARGET</th>\n",
       "      <th>CNT_CHILDREN</th>\n",
       "      <th>AMT_CREDIT</th>\n",
       "      <th>DAYS_EMPLOYED</th>\n",
       "      <th>DAYS_REGISTRATION</th>\n",
       "      <th>OWN_CAR_AGE</th>\n",
       "      <th>FLAG_MOBIL</th>\n",
       "      <th>FLAG_EMP_PHONE</th>\n",
       "      <th>CNT_FAM_MEMBERS</th>\n",
       "      <th>REG_REGION_NOT_LIVE_REGION</th>\n",
       "      <th>...</th>\n",
       "      <th>FLAG_OWN_CAR_N</th>\n",
       "      <th>FLAG_OWN_CAR_Y</th>\n",
       "      <th>FLAG_OWN_REALTY_N</th>\n",
       "      <th>FLAG_OWN_REALTY_Y</th>\n",
       "      <th>NAME_FAMILY_STATUS_Civil marriage</th>\n",
       "      <th>NAME_FAMILY_STATUS_Married</th>\n",
       "      <th>NAME_FAMILY_STATUS_Separated</th>\n",
       "      <th>NAME_FAMILY_STATUS_Single / not married</th>\n",
       "      <th>NAME_FAMILY_STATUS_Unknown</th>\n",
       "      <th>NAME_FAMILY_STATUS_Widow</th>\n",
       "    </tr>\n",
       "  </thead>\n",
       "  <tbody>\n",
       "    <tr>\n",
       "      <th>0</th>\n",
       "      <td>1</td>\n",
       "      <td>0</td>\n",
       "      <td>406597.5</td>\n",
       "      <td>-637</td>\n",
       "      <td>-3648.0</td>\n",
       "      <td>12.061139</td>\n",
       "      <td>1</td>\n",
       "      <td>1</td>\n",
       "      <td>1.0</td>\n",
       "      <td>0</td>\n",
       "      <td>...</td>\n",
       "      <td>1</td>\n",
       "      <td>0</td>\n",
       "      <td>0</td>\n",
       "      <td>1</td>\n",
       "      <td>0</td>\n",
       "      <td>0</td>\n",
       "      <td>0</td>\n",
       "      <td>1</td>\n",
       "      <td>0</td>\n",
       "      <td>0</td>\n",
       "    </tr>\n",
       "    <tr>\n",
       "      <th>1</th>\n",
       "      <td>0</td>\n",
       "      <td>0</td>\n",
       "      <td>1293502.5</td>\n",
       "      <td>-1188</td>\n",
       "      <td>-1186.0</td>\n",
       "      <td>12.061139</td>\n",
       "      <td>1</td>\n",
       "      <td>1</td>\n",
       "      <td>2.0</td>\n",
       "      <td>0</td>\n",
       "      <td>...</td>\n",
       "      <td>1</td>\n",
       "      <td>0</td>\n",
       "      <td>1</td>\n",
       "      <td>0</td>\n",
       "      <td>0</td>\n",
       "      <td>1</td>\n",
       "      <td>0</td>\n",
       "      <td>0</td>\n",
       "      <td>0</td>\n",
       "      <td>0</td>\n",
       "    </tr>\n",
       "    <tr>\n",
       "      <th>2</th>\n",
       "      <td>0</td>\n",
       "      <td>0</td>\n",
       "      <td>135000.0</td>\n",
       "      <td>-225</td>\n",
       "      <td>-4260.0</td>\n",
       "      <td>26.000000</td>\n",
       "      <td>1</td>\n",
       "      <td>1</td>\n",
       "      <td>1.0</td>\n",
       "      <td>0</td>\n",
       "      <td>...</td>\n",
       "      <td>0</td>\n",
       "      <td>1</td>\n",
       "      <td>0</td>\n",
       "      <td>1</td>\n",
       "      <td>0</td>\n",
       "      <td>0</td>\n",
       "      <td>0</td>\n",
       "      <td>1</td>\n",
       "      <td>0</td>\n",
       "      <td>0</td>\n",
       "    </tr>\n",
       "    <tr>\n",
       "      <th>3</th>\n",
       "      <td>0</td>\n",
       "      <td>0</td>\n",
       "      <td>312682.5</td>\n",
       "      <td>-3039</td>\n",
       "      <td>-9833.0</td>\n",
       "      <td>12.061139</td>\n",
       "      <td>1</td>\n",
       "      <td>1</td>\n",
       "      <td>2.0</td>\n",
       "      <td>0</td>\n",
       "      <td>...</td>\n",
       "      <td>1</td>\n",
       "      <td>0</td>\n",
       "      <td>0</td>\n",
       "      <td>1</td>\n",
       "      <td>1</td>\n",
       "      <td>0</td>\n",
       "      <td>0</td>\n",
       "      <td>0</td>\n",
       "      <td>0</td>\n",
       "      <td>0</td>\n",
       "    </tr>\n",
       "    <tr>\n",
       "      <th>4</th>\n",
       "      <td>0</td>\n",
       "      <td>0</td>\n",
       "      <td>513000.0</td>\n",
       "      <td>-3038</td>\n",
       "      <td>-4311.0</td>\n",
       "      <td>12.061139</td>\n",
       "      <td>1</td>\n",
       "      <td>1</td>\n",
       "      <td>1.0</td>\n",
       "      <td>0</td>\n",
       "      <td>...</td>\n",
       "      <td>1</td>\n",
       "      <td>0</td>\n",
       "      <td>0</td>\n",
       "      <td>1</td>\n",
       "      <td>0</td>\n",
       "      <td>0</td>\n",
       "      <td>0</td>\n",
       "      <td>1</td>\n",
       "      <td>0</td>\n",
       "      <td>0</td>\n",
       "    </tr>\n",
       "  </tbody>\n",
       "</table>\n",
       "<p>5 rows × 26 columns</p>\n",
       "</div>"
      ],
      "text/plain": [
       "   TARGET  CNT_CHILDREN  AMT_CREDIT  DAYS_EMPLOYED  DAYS_REGISTRATION  \\\n",
       "0       1             0    406597.5           -637            -3648.0   \n",
       "1       0             0   1293502.5          -1188            -1186.0   \n",
       "2       0             0    135000.0           -225            -4260.0   \n",
       "3       0             0    312682.5          -3039            -9833.0   \n",
       "4       0             0    513000.0          -3038            -4311.0   \n",
       "\n",
       "   OWN_CAR_AGE  FLAG_MOBIL  FLAG_EMP_PHONE  CNT_FAM_MEMBERS  \\\n",
       "0    12.061139           1               1              1.0   \n",
       "1    12.061139           1               1              2.0   \n",
       "2    26.000000           1               1              1.0   \n",
       "3    12.061139           1               1              2.0   \n",
       "4    12.061139           1               1              1.0   \n",
       "\n",
       "   REG_REGION_NOT_LIVE_REGION            ...             FLAG_OWN_CAR_N  \\\n",
       "0                           0            ...                          1   \n",
       "1                           0            ...                          1   \n",
       "2                           0            ...                          0   \n",
       "3                           0            ...                          1   \n",
       "4                           0            ...                          1   \n",
       "\n",
       "   FLAG_OWN_CAR_Y  FLAG_OWN_REALTY_N  FLAG_OWN_REALTY_Y  \\\n",
       "0               0                  0                  1   \n",
       "1               0                  1                  0   \n",
       "2               1                  0                  1   \n",
       "3               0                  0                  1   \n",
       "4               0                  0                  1   \n",
       "\n",
       "   NAME_FAMILY_STATUS_Civil marriage  NAME_FAMILY_STATUS_Married  \\\n",
       "0                                  0                           0   \n",
       "1                                  0                           1   \n",
       "2                                  0                           0   \n",
       "3                                  1                           0   \n",
       "4                                  0                           0   \n",
       "\n",
       "   NAME_FAMILY_STATUS_Separated  NAME_FAMILY_STATUS_Single / not married  \\\n",
       "0                             0                                        1   \n",
       "1                             0                                        0   \n",
       "2                             0                                        1   \n",
       "3                             0                                        0   \n",
       "4                             0                                        1   \n",
       "\n",
       "   NAME_FAMILY_STATUS_Unknown  NAME_FAMILY_STATUS_Widow  \n",
       "0                           0                         0  \n",
       "1                           0                         0  \n",
       "2                           0                         0  \n",
       "3                           0                         0  \n",
       "4                           0                         0  \n",
       "\n",
       "[5 rows x 26 columns]"
      ]
     },
     "execution_count": 66,
     "metadata": {},
     "output_type": "execute_result"
    }
   ],
   "source": [
    "datos.head()"
   ]
  },
  {
   "cell_type": "code",
   "execution_count": 67,
   "metadata": {},
   "outputs": [
    {
     "name": "stderr",
     "output_type": "stream",
     "text": [
      "/home/mate/anaconda3/lib/python3.6/site-packages/h5py/__init__.py:34: FutureWarning: Conversion of the second argument of issubdtype from `float` to `np.floating` is deprecated. In future, it will be treated as `np.float64 == np.dtype(float).type`.\n",
      "  from ._conv import register_converters as _register_converters\n",
      "Using TensorFlow backend.\n"
     ]
    }
   ],
   "source": [
    "import keras\n",
    "from keras.layers import Dense\n",
    "from keras.models import Sequential\n",
    "from keras.utils import to_categorical\n",
    "from sklearn.model_selection import train_test_split # For splitting the data set\n",
    "from sklearn.metrics import accuracy_score\n",
    "from sklearn.metrics import recall_score\n",
    "from imblearn.over_sampling import SMOTE # This method is helpful to do oversampling\n",
    "# The following web pages are good references: \n",
    "\n",
    "#https://beckernick.github.io/oversampling-modeling/\n",
    "#https://github.com/scikit-learn-contrib/imbalanced-learn\n",
    "    "
   ]
  },
  {
   "cell_type": "markdown",
   "metadata": {},
   "source": [
    "Dividimos nuestro conjunto de datos en 3:\n",
    "* Entrenamiento\n",
    "* Validación\n",
    "* Prueba"
   ]
  },
  {
   "cell_type": "code",
   "execution_count": 68,
   "metadata": {
    "collapsed": true
   },
   "outputs": [],
   "source": [
    "TARGET = datos.TARGET"
   ]
  },
  {
   "cell_type": "code",
   "execution_count": 69,
   "metadata": {
    "collapsed": true
   },
   "outputs": [],
   "source": [
    "datos=datos.drop(\"TARGET\",axis=1)"
   ]
  },
  {
   "cell_type": "code",
   "execution_count": 70,
   "metadata": {
    "collapsed": true
   },
   "outputs": [],
   "source": [
    "training_features, temp_features, training_target, temp_target = train_test_split(datos, \n",
    "                                                                                  TARGET, \n",
    "                                                                                  test_size = 0.2, \n",
    "                                                                                  random_state = 1234)"
   ]
  },
  {
   "cell_type": "code",
   "execution_count": 71,
   "metadata": {},
   "outputs": [
    {
     "data": {
      "text/plain": [
       "242803    0\n",
       "251704    0\n",
       "199949    0\n",
       "48196     0\n",
       "81200     0\n",
       "Name: TARGET, dtype: int64"
      ]
     },
     "execution_count": 71,
     "metadata": {},
     "output_type": "execute_result"
    }
   ],
   "source": [
    "training_target.head()"
   ]
  },
  {
   "cell_type": "code",
   "execution_count": 72,
   "metadata": {},
   "outputs": [
    {
     "data": {
      "text/plain": [
       "0    226192\n",
       "1     19815\n",
       "Name: TARGET, dtype: int64"
      ]
     },
     "execution_count": 72,
     "metadata": {},
     "output_type": "execute_result"
    }
   ],
   "source": [
    "training_target.value_counts()"
   ]
  },
  {
   "cell_type": "code",
   "execution_count": 73,
   "metadata": {
    "collapsed": true
   },
   "outputs": [],
   "source": [
    "valid_features, test_features, valid_target, test_target = train_test_split(temp_features, \n",
    "                                                                            temp_target, \n",
    "                                                                            test_size = 0.5, \n",
    "                                                                            random_state = 1234)"
   ]
  },
  {
   "cell_type": "code",
   "execution_count": 74,
   "metadata": {},
   "outputs": [
    {
     "data": {
      "text/plain": [
       "0    28163\n",
       "1     2588\n",
       "Name: TARGET, dtype: int64"
      ]
     },
     "execution_count": 74,
     "metadata": {},
     "output_type": "execute_result"
    }
   ],
   "source": [
    "valid_target.value_counts()"
   ]
  },
  {
   "cell_type": "code",
   "execution_count": 75,
   "metadata": {
    "scrolled": true
   },
   "outputs": [
    {
     "data": {
      "text/plain": [
       "0    28330\n",
       "1     2421\n",
       "Name: TARGET, dtype: int64"
      ]
     },
     "execution_count": 75,
     "metadata": {},
     "output_type": "execute_result"
    }
   ],
   "source": [
    "test_target.value_counts()"
   ]
  },
  {
   "cell_type": "markdown",
   "metadata": {},
   "source": [
    "Es notorio que nos enfrentamos a un problema desbalanceado."
   ]
  },
  {
   "cell_type": "markdown",
   "metadata": {},
   "source": [
    "#### We convert the following variables:  valid_features, valid_target, test_features, test_target to numpyarray."
   ]
  },
  {
   "cell_type": "code",
   "execution_count": 76,
   "metadata": {
    "collapsed": true
   },
   "outputs": [],
   "source": [
    "valid_features = valid_features.as_matrix()\n",
    "test_features = test_features.as_matrix()"
   ]
  },
  {
   "cell_type": "code",
   "execution_count": 77,
   "metadata": {
    "collapsed": true
   },
   "outputs": [],
   "source": [
    "valid_target = to_categorical(valid_target)\n",
    "test_target = to_categorical(test_target)"
   ]
  },
  {
   "cell_type": "markdown",
   "metadata": {},
   "source": [
    "### Oversampling"
   ]
  },
  {
   "cell_type": "code",
   "execution_count": 78,
   "metadata": {
    "collapsed": true
   },
   "outputs": [],
   "source": [
    "sm = SMOTE(random_state=1234, ratio=1.0)"
   ]
  },
  {
   "cell_type": "code",
   "execution_count": 79,
   "metadata": {},
   "outputs": [
    {
     "name": "stderr",
     "output_type": "stream",
     "text": [
      "/home/mate/anaconda3/lib/python3.6/site-packages/sklearn/utils/deprecation.py:77: DeprecationWarning: Function _ratio_float is deprecated; Use a float for 'ratio' is deprecated from version 0.2. The support will be removed in 0.4. Use a dict, str, or a callable instead.\n",
      "  warnings.warn(msg, category=DeprecationWarning)\n"
     ]
    }
   ],
   "source": [
    "training_over_features, training_over_target = sm.fit_sample(training_features, training_target)"
   ]
  },
  {
   "cell_type": "code",
   "execution_count": 80,
   "metadata": {},
   "outputs": [
    {
     "name": "stdout",
     "output_type": "stream",
     "text": [
      "Frequency of unique values of the target variable:\n",
      "[[     0      1]\n",
      " [226192 226192]]\n"
     ]
    }
   ],
   "source": [
    "unique_elements, counts_elements = np.unique(training_over_target, return_counts=True)\n",
    "print(\"Frequency of unique values of the target variable:\")\n",
    "print(np.asarray((unique_elements, counts_elements)))"
   ]
  },
  {
   "cell_type": "markdown",
   "metadata": {},
   "source": [
    "Nuestros datos ahora están balanceados"
   ]
  },
  {
   "cell_type": "code",
   "execution_count": 81,
   "metadata": {
    "collapsed": true
   },
   "outputs": [],
   "source": [
    "training_over_target = to_categorical(training_over_target)"
   ]
  },
  {
   "cell_type": "markdown",
   "metadata": {},
   "source": [
    "## Modelación con keras"
   ]
  },
  {
   "cell_type": "code",
   "execution_count": 82,
   "metadata": {
    "collapsed": true
   },
   "outputs": [],
   "source": [
    "from sklearn.metrics import accuracy_score"
   ]
  },
  {
   "cell_type": "code",
   "execution_count": 111,
   "metadata": {
    "collapsed": true
   },
   "outputs": [],
   "source": [
    "def get_new_model():\n",
    "    # Set up the model\n",
    "    model = Sequential()\n",
    "\n",
    "    # Add the first hidden layer\n",
    "    model.add(Dense(10, activation='relu', input_shape=(n_cols,)))\n",
    "\n",
    "    # Add the output layer\n",
    "    model.add(Dense(2, activation='softmax'))\n",
    "    \n",
    "    return(model)\n"
   ]
  },
  {
   "cell_type": "code",
   "execution_count": 112,
   "metadata": {
    "collapsed": true
   },
   "outputs": [],
   "source": [
    "# Import EarlyStopping\n",
    "from keras.callbacks import EarlyStopping \n",
    "\n",
    "from sklearn.metrics import accuracy_score"
   ]
  },
  {
   "cell_type": "code",
   "execution_count": 113,
   "metadata": {
    "collapsed": true
   },
   "outputs": [],
   "source": [
    "n_cols = training_over_features.shape[1]"
   ]
  },
  {
   "cell_type": "code",
   "execution_count": 114,
   "metadata": {
    "scrolled": true
   },
   "outputs": [
    {
     "name": "stdout",
     "output_type": "stream",
     "text": [
      "Train on 407145 samples, validate on 45239 samples\n",
      "Epoch 1/30\n",
      "407145/407145 [==============================] - 24s 60us/step - loss: 7.5898 - acc: 0.5291 - val_loss: 15.4198 - val_acc: 0.0433\n",
      "Epoch 2/30\n",
      "407145/407145 [==============================] - 24s 60us/step - loss: 7.6440 - acc: 0.5257 - val_loss: 14.4731 - val_acc: 0.1021\n",
      "Epoch 3/30\n",
      "407145/407145 [==============================] - 24s 59us/step - loss: 7.8213 - acc: 0.5148 - val_loss: 14.4731 - val_acc: 0.1021\n",
      "Epoch 4/30\n",
      "407145/407145 [==============================] - 24s 60us/step - loss: 7.8213 - acc: 0.5148 - val_loss: 14.4731 - val_acc: 0.1021\n"
     ]
    },
    {
     "data": {
      "text/plain": [
       "<keras.callbacks.History at 0x7f3d24100748>"
      ]
     },
     "execution_count": 114,
     "metadata": {},
     "output_type": "execute_result"
    }
   ],
   "source": [
    "# Build new model to test, unaffected by previous models\n",
    "model = get_new_model()\n",
    "\n",
    "# Compile the model\n",
    "model.compile(optimizer='adam', loss='categorical_crossentropy', metrics=['accuracy'])\n",
    "\n",
    "# Define early_stopping_monitor\n",
    "early_stopping_monitor = EarlyStopping(patience=2)\n",
    "\n",
    "# Fit the model\n",
    "model.fit(training_over_features, training_over_target, epochs=30, validation_split=0.1, callbacks=[early_stopping_monitor])\n"
   ]
  },
  {
   "cell_type": "code",
   "execution_count": 115,
   "metadata": {
    "collapsed": true
   },
   "outputs": [],
   "source": [
    "valid_predict = model.predict(valid_features)"
   ]
  },
  {
   "cell_type": "markdown",
   "metadata": {},
   "source": [
    "## Set de validación"
   ]
  },
  {
   "cell_type": "code",
   "execution_count": 116,
   "metadata": {},
   "outputs": [
    {
     "data": {
      "text/plain": [
       "array([[1., 0.],\n",
       "       [1., 0.],\n",
       "       [1., 0.],\n",
       "       ...,\n",
       "       [1., 0.],\n",
       "       [1., 0.],\n",
       "       [0., 1.]], dtype=float32)"
      ]
     },
     "execution_count": 116,
     "metadata": {},
     "output_type": "execute_result"
    }
   ],
   "source": [
    "valid_predict"
   ]
  },
  {
   "cell_type": "code",
   "execution_count": 117,
   "metadata": {
    "collapsed": true
   },
   "outputs": [],
   "source": [
    "def column_max(x):\n",
    "    if x[0] >= x[1]:\n",
    "        return 0\n",
    "    else:\n",
    "        return 1"
   ]
  },
  {
   "cell_type": "code",
   "execution_count": 118,
   "metadata": {
    "collapsed": true
   },
   "outputs": [],
   "source": [
    "valid_predict_bin = []\n",
    "for i in range(valid_predict.shape[0]):\n",
    "    valid_predict_bin.append(column_max(valid_predict[i]))\n",
    " "
   ]
  },
  {
   "cell_type": "code",
   "execution_count": 119,
   "metadata": {
    "collapsed": true
   },
   "outputs": [],
   "source": [
    "valid_target_bin = []\n",
    "for i in range(valid_target.shape[0]):\n",
    "    valid_target_bin.append(column_max(valid_target[i]))"
   ]
  },
  {
   "cell_type": "code",
   "execution_count": 120,
   "metadata": {},
   "outputs": [
    {
     "data": {
      "text/plain": [
       "0.7821209066371825"
      ]
     },
     "execution_count": 120,
     "metadata": {},
     "output_type": "execute_result"
    }
   ],
   "source": [
    "accuracy_score(valid_predict_bin, valid_target_bin)"
   ]
  },
  {
   "cell_type": "markdown",
   "metadata": {},
   "source": [
    "La red se válida ya que clasifica de manera correcta el 78.21% de los datos"
   ]
  },
  {
   "cell_type": "markdown",
   "metadata": {},
   "source": [
    "TEST"
   ]
  },
  {
   "cell_type": "code",
   "execution_count": 121,
   "metadata": {
    "collapsed": true
   },
   "outputs": [],
   "source": [
    "test_predict = model.predict(test_features)"
   ]
  },
  {
   "cell_type": "code",
   "execution_count": 122,
   "metadata": {
    "collapsed": true
   },
   "outputs": [],
   "source": [
    "test_predict_bin = []\n",
    "for i in range(test_predict.shape[0]):\n",
    "    test_predict_bin.append(column_max(test_predict[i]))\n"
   ]
  },
  {
   "cell_type": "code",
   "execution_count": 124,
   "metadata": {
    "collapsed": true
   },
   "outputs": [],
   "source": [
    "test_target_bin = []\n",
    "for i in range(test_target.shape[0]):\n",
    "    test_target_bin.append(column_max(test_target[i]))"
   ]
  },
  {
   "cell_type": "code",
   "execution_count": 125,
   "metadata": {},
   "outputs": [
    {
     "data": {
      "text/plain": [
       "0.7876817014080842"
      ]
     },
     "execution_count": 125,
     "metadata": {},
     "output_type": "execute_result"
    }
   ],
   "source": [
    "accuracy_score(test_predict_bin, test_target_bin)"
   ]
  },
  {
   "cell_type": "markdown",
   "metadata": {},
   "source": [
    "la red generaliza correctamente los datos, generalizando el 78.77% de los datos siendo este un valor aceptable"
   ]
  },
  {
   "cell_type": "code",
   "execution_count": null,
   "metadata": {
    "collapsed": true
   },
   "outputs": [],
   "source": []
  }
 ],
 "metadata": {
  "kernelspec": {
   "display_name": "Python 3",
   "language": "python",
   "name": "python3"
  },
  "language_info": {
   "codemirror_mode": {
    "name": "ipython",
    "version": 3
   },
   "file_extension": ".py",
   "mimetype": "text/x-python",
   "name": "python",
   "nbconvert_exporter": "python",
   "pygments_lexer": "ipython3",
   "version": "3.6.3"
  }
 },
 "nbformat": 4,
 "nbformat_minor": 2
}
